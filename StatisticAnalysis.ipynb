{
 "cells": [
  {
   "cell_type": "markdown",
   "id": "2d204032",
   "metadata": {},
   "source": [
    "# GoFast - сервис аренды электросамокатов. В данном проекте мы поработаем над данными о пользователях этого сервиса. Проведем исследовательский и статистический анализы, проверим некоторые гипотезы касаемо пользователей, которые потенциально могут помочь бизнесу вырасти. Например, гипотезу о том, влияет ли на выручку компании наличие у пользователя платной подписки на сервис."
   ]
  },
  {
   "cell_type": "code",
   "execution_count": 1,
   "id": "c57f8bbb",
   "metadata": {},
   "outputs": [],
   "source": [
    "import pandas as pd\n",
    "import matplotlib.pyplot as plt\n",
    "import numpy as np\n",
    "from scipy.stats import ttest_ind\n",
    "from scipy.stats import ttest_1samp"
   ]
  },
  {
   "cell_type": "markdown",
   "id": "10d9989e",
   "metadata": {},
   "source": [
    "#### Шаг 1. Загрузка данных"
   ]
  },
  {
   "cell_type": "markdown",
   "id": "8a492995",
   "metadata": {},
   "source": [
    "##### Загрузим данные и просмотрим их"
   ]
  },
  {
   "cell_type": "code",
   "execution_count": 2,
   "id": "354a3145",
   "metadata": {},
   "outputs": [],
   "source": [
    "users = pd.read_csv('/datasets/users_go.csv')\n",
    "rides = pd.read_csv('/datasets/rides_go.csv')\n",
    "subs = pd.read_csv('/datasets/subscriptions_go.csv')"
   ]
  },
  {
   "cell_type": "code",
   "execution_count": 3,
   "id": "014f011a",
   "metadata": {},
   "outputs": [
    {
     "name": "stdout",
     "output_type": "stream",
     "text": [
      "<class 'pandas.core.frame.DataFrame'>\n",
      "RangeIndex: 1565 entries, 0 to 1564\n",
      "Data columns (total 5 columns):\n",
      " #   Column             Non-Null Count  Dtype \n",
      "---  ------             --------------  ----- \n",
      " 0   user_id            1565 non-null   int64 \n",
      " 1   name               1565 non-null   object\n",
      " 2   age                1565 non-null   int64 \n",
      " 3   city               1565 non-null   object\n",
      " 4   subscription_type  1565 non-null   object\n",
      "dtypes: int64(2), object(3)\n",
      "memory usage: 61.3+ KB\n"
     ]
    }
   ],
   "source": [
    "users.info()"
   ]
  },
  {
   "cell_type": "markdown",
   "id": "e1be8d27",
   "metadata": {},
   "source": [
    "В датафрейме users по видимому хранятся индивидуальные данные пользователя (айдишник, имя, возраст, город проживания) и информация о типе подписки. "
   ]
  },
  {
   "cell_type": "code",
   "execution_count": 4,
   "id": "1f8c564a",
   "metadata": {},
   "outputs": [
    {
     "name": "stdout",
     "output_type": "stream",
     "text": [
      "<class 'pandas.core.frame.DataFrame'>\n",
      "RangeIndex: 18068 entries, 0 to 18067\n",
      "Data columns (total 4 columns):\n",
      " #   Column    Non-Null Count  Dtype  \n",
      "---  ------    --------------  -----  \n",
      " 0   user_id   18068 non-null  int64  \n",
      " 1   distance  18068 non-null  float64\n",
      " 2   duration  18068 non-null  float64\n",
      " 3   date      18068 non-null  object \n",
      "dtypes: float64(2), int64(1), object(1)\n",
      "memory usage: 564.8+ KB\n"
     ]
    }
   ],
   "source": [
    "rides.info()"
   ]
  },
  {
   "cell_type": "markdown",
   "id": "1f97e9e6",
   "metadata": {},
   "source": [
    "В датафрейме rides к айдишникам пользователей из датафрейма users прикручены данные о поездках. Такие, как дистанция поездки, время и дата. "
   ]
  },
  {
   "cell_type": "code",
   "execution_count": 5,
   "id": "4282eb01",
   "metadata": {},
   "outputs": [
    {
     "name": "stdout",
     "output_type": "stream",
     "text": [
      "<class 'pandas.core.frame.DataFrame'>\n",
      "RangeIndex: 2 entries, 0 to 1\n",
      "Data columns (total 4 columns):\n",
      " #   Column             Non-Null Count  Dtype \n",
      "---  ------             --------------  ----- \n",
      " 0   subscription_type  2 non-null      object\n",
      " 1   minute_price       2 non-null      int64 \n",
      " 2   start_ride_price   2 non-null      int64 \n",
      " 3   subscription_fee   2 non-null      int64 \n",
      "dtypes: int64(3), object(1)\n",
      "memory usage: 192.0+ bytes\n"
     ]
    }
   ],
   "source": [
    "subs.info()"
   ]
  },
  {
   "cell_type": "markdown",
   "id": "b3b5b66d",
   "metadata": {},
   "source": [
    "В датафрейме subs хранится общая информация о тарификации подписки / бесплатного использования. "
   ]
  },
  {
   "cell_type": "markdown",
   "id": "017e0fe9",
   "metadata": {},
   "source": [
    "Прошу заметить что пропусков не наблюдается. "
   ]
  },
  {
   "cell_type": "code",
   "execution_count": 6,
   "id": "c00ece11",
   "metadata": {},
   "outputs": [
    {
     "data": {
      "text/html": [
       "<div>\n",
       "<style scoped>\n",
       "    .dataframe tbody tr th:only-of-type {\n",
       "        vertical-align: middle;\n",
       "    }\n",
       "\n",
       "    .dataframe tbody tr th {\n",
       "        vertical-align: top;\n",
       "    }\n",
       "\n",
       "    .dataframe thead th {\n",
       "        text-align: right;\n",
       "    }\n",
       "</style>\n",
       "<table border=\"1\" class=\"dataframe\">\n",
       "  <thead>\n",
       "    <tr style=\"text-align: right;\">\n",
       "      <th></th>\n",
       "      <th>user_id</th>\n",
       "      <th>name</th>\n",
       "      <th>age</th>\n",
       "      <th>city</th>\n",
       "      <th>subscription_type</th>\n",
       "    </tr>\n",
       "  </thead>\n",
       "  <tbody>\n",
       "    <tr>\n",
       "      <th>0</th>\n",
       "      <td>1</td>\n",
       "      <td>Кира</td>\n",
       "      <td>22</td>\n",
       "      <td>Тюмень</td>\n",
       "      <td>ultra</td>\n",
       "    </tr>\n",
       "    <tr>\n",
       "      <th>1</th>\n",
       "      <td>2</td>\n",
       "      <td>Станислав</td>\n",
       "      <td>31</td>\n",
       "      <td>Омск</td>\n",
       "      <td>ultra</td>\n",
       "    </tr>\n",
       "    <tr>\n",
       "      <th>2</th>\n",
       "      <td>3</td>\n",
       "      <td>Алексей</td>\n",
       "      <td>20</td>\n",
       "      <td>Москва</td>\n",
       "      <td>ultra</td>\n",
       "    </tr>\n",
       "    <tr>\n",
       "      <th>3</th>\n",
       "      <td>4</td>\n",
       "      <td>Константин</td>\n",
       "      <td>26</td>\n",
       "      <td>Ростов-на-Дону</td>\n",
       "      <td>ultra</td>\n",
       "    </tr>\n",
       "    <tr>\n",
       "      <th>4</th>\n",
       "      <td>5</td>\n",
       "      <td>Адель</td>\n",
       "      <td>28</td>\n",
       "      <td>Омск</td>\n",
       "      <td>ultra</td>\n",
       "    </tr>\n",
       "  </tbody>\n",
       "</table>\n",
       "</div>"
      ],
      "text/plain": [
       "   user_id        name  age            city subscription_type\n",
       "0        1        Кира   22          Тюмень             ultra\n",
       "1        2   Станислав   31            Омск             ultra\n",
       "2        3     Алексей   20          Москва             ultra\n",
       "3        4  Константин   26  Ростов-на-Дону             ultra\n",
       "4        5       Адель   28            Омск             ultra"
      ]
     },
     "execution_count": 6,
     "metadata": {},
     "output_type": "execute_result"
    }
   ],
   "source": [
    "users.head()"
   ]
  },
  {
   "cell_type": "markdown",
   "id": "f82c4377",
   "metadata": {},
   "source": [
    "Все как и упоминалось выше. Имеем айди, имя, возраст, город и тип подписки. "
   ]
  },
  {
   "cell_type": "code",
   "execution_count": 7,
   "id": "e0f37c8b",
   "metadata": {},
   "outputs": [
    {
     "data": {
      "text/html": [
       "<div>\n",
       "<style scoped>\n",
       "    .dataframe tbody tr th:only-of-type {\n",
       "        vertical-align: middle;\n",
       "    }\n",
       "\n",
       "    .dataframe tbody tr th {\n",
       "        vertical-align: top;\n",
       "    }\n",
       "\n",
       "    .dataframe thead th {\n",
       "        text-align: right;\n",
       "    }\n",
       "</style>\n",
       "<table border=\"1\" class=\"dataframe\">\n",
       "  <thead>\n",
       "    <tr style=\"text-align: right;\">\n",
       "      <th></th>\n",
       "      <th>user_id</th>\n",
       "      <th>distance</th>\n",
       "      <th>duration</th>\n",
       "      <th>date</th>\n",
       "    </tr>\n",
       "  </thead>\n",
       "  <tbody>\n",
       "    <tr>\n",
       "      <th>0</th>\n",
       "      <td>1</td>\n",
       "      <td>4409.919140</td>\n",
       "      <td>25.599769</td>\n",
       "      <td>2021-01-01</td>\n",
       "    </tr>\n",
       "    <tr>\n",
       "      <th>1</th>\n",
       "      <td>1</td>\n",
       "      <td>2617.592153</td>\n",
       "      <td>15.816871</td>\n",
       "      <td>2021-01-18</td>\n",
       "    </tr>\n",
       "    <tr>\n",
       "      <th>2</th>\n",
       "      <td>1</td>\n",
       "      <td>754.159807</td>\n",
       "      <td>6.232113</td>\n",
       "      <td>2021-04-20</td>\n",
       "    </tr>\n",
       "    <tr>\n",
       "      <th>3</th>\n",
       "      <td>1</td>\n",
       "      <td>2694.783254</td>\n",
       "      <td>18.511000</td>\n",
       "      <td>2021-08-11</td>\n",
       "    </tr>\n",
       "    <tr>\n",
       "      <th>4</th>\n",
       "      <td>1</td>\n",
       "      <td>4028.687306</td>\n",
       "      <td>26.265803</td>\n",
       "      <td>2021-08-28</td>\n",
       "    </tr>\n",
       "  </tbody>\n",
       "</table>\n",
       "</div>"
      ],
      "text/plain": [
       "   user_id     distance   duration        date\n",
       "0        1  4409.919140  25.599769  2021-01-01\n",
       "1        1  2617.592153  15.816871  2021-01-18\n",
       "2        1   754.159807   6.232113  2021-04-20\n",
       "3        1  2694.783254  18.511000  2021-08-11\n",
       "4        1  4028.687306  26.265803  2021-08-28"
      ]
     },
     "execution_count": 7,
     "metadata": {},
     "output_type": "execute_result"
    }
   ],
   "source": [
    "rides.head()"
   ]
  },
  {
   "cell_type": "markdown",
   "id": "08cb4153",
   "metadata": {},
   "source": [
    "Здесь мы можем заметить что к одному и тому же айди прикручено сразу несколько поездок. "
   ]
  },
  {
   "cell_type": "code",
   "execution_count": 8,
   "id": "5073b259",
   "metadata": {},
   "outputs": [
    {
     "data": {
      "text/html": [
       "<div>\n",
       "<style scoped>\n",
       "    .dataframe tbody tr th:only-of-type {\n",
       "        vertical-align: middle;\n",
       "    }\n",
       "\n",
       "    .dataframe tbody tr th {\n",
       "        vertical-align: top;\n",
       "    }\n",
       "\n",
       "    .dataframe thead th {\n",
       "        text-align: right;\n",
       "    }\n",
       "</style>\n",
       "<table border=\"1\" class=\"dataframe\">\n",
       "  <thead>\n",
       "    <tr style=\"text-align: right;\">\n",
       "      <th></th>\n",
       "      <th>subscription_type</th>\n",
       "      <th>minute_price</th>\n",
       "      <th>start_ride_price</th>\n",
       "      <th>subscription_fee</th>\n",
       "    </tr>\n",
       "  </thead>\n",
       "  <tbody>\n",
       "    <tr>\n",
       "      <th>0</th>\n",
       "      <td>free</td>\n",
       "      <td>8</td>\n",
       "      <td>50</td>\n",
       "      <td>0</td>\n",
       "    </tr>\n",
       "    <tr>\n",
       "      <th>1</th>\n",
       "      <td>ultra</td>\n",
       "      <td>6</td>\n",
       "      <td>0</td>\n",
       "      <td>199</td>\n",
       "    </tr>\n",
       "  </tbody>\n",
       "</table>\n",
       "</div>"
      ],
      "text/plain": [
       "  subscription_type  minute_price  start_ride_price  subscription_fee\n",
       "0              free             8                50                 0\n",
       "1             ultra             6                 0               199"
      ]
     },
     "execution_count": 8,
     "metadata": {},
     "output_type": "execute_result"
    }
   ],
   "source": [
    "subs.head()"
   ]
  },
  {
   "cell_type": "markdown",
   "id": "c2b2a77c",
   "metadata": {},
   "source": [
    "Условия тарифов :)"
   ]
  },
  {
   "cell_type": "markdown",
   "id": "7a867aa3",
   "metadata": {},
   "source": [
    "##### Изучим типы данных"
   ]
  },
  {
   "cell_type": "code",
   "execution_count": 9,
   "id": "51f0a604",
   "metadata": {},
   "outputs": [
    {
     "data": {
      "text/plain": [
       "user_id               int64\n",
       "name                 object\n",
       "age                   int64\n",
       "city                 object\n",
       "subscription_type    object\n",
       "dtype: object"
      ]
     },
     "execution_count": 9,
     "metadata": {},
     "output_type": "execute_result"
    }
   ],
   "source": [
    "users.dtypes"
   ]
  },
  {
   "cell_type": "markdown",
   "id": "da56ddb4",
   "metadata": {},
   "source": [
    "Видим айдишники типа инт, возраст так же инт, все остальные у нас объекты"
   ]
  },
  {
   "cell_type": "code",
   "execution_count": 10,
   "id": "414d273f",
   "metadata": {},
   "outputs": [
    {
     "data": {
      "text/plain": [
       "user_id       int64\n",
       "distance    float64\n",
       "duration    float64\n",
       "date         object\n",
       "dtype: object"
      ]
     },
     "execution_count": 10,
     "metadata": {},
     "output_type": "execute_result"
    }
   ],
   "source": [
    "rides.dtypes"
   ]
  },
  {
   "cell_type": "markdown",
   "id": "009a4d59",
   "metadata": {},
   "source": [
    "Видим те же самые айдишники, однако одному айди у нас привязано несколько поездок, дистанция и длительность это флоаты и дата типа object"
   ]
  },
  {
   "cell_type": "code",
   "execution_count": 11,
   "id": "1302899a",
   "metadata": {},
   "outputs": [
    {
     "data": {
      "text/plain": [
       "subscription_type    object\n",
       "minute_price          int64\n",
       "start_ride_price      int64\n",
       "subscription_fee      int64\n",
       "dtype: object"
      ]
     },
     "execution_count": 11,
     "metadata": {},
     "output_type": "execute_result"
    }
   ],
   "source": [
    "subs.dtypes"
   ]
  },
  {
   "cell_type": "markdown",
   "id": "427b8aa2",
   "metadata": {},
   "source": [
    "тип подписки все так же объект, все остальное - инт"
   ]
  },
  {
   "cell_type": "markdown",
   "id": "eaf93798",
   "metadata": {},
   "source": [
    "#### Шаг 2. Предобработка данных"
   ]
  },
  {
   "cell_type": "markdown",
   "id": "82ab6e5e",
   "metadata": {},
   "source": [
    "##### Переведем столбец date во фрейме rides из object к специальному типу datetime"
   ]
  },
  {
   "cell_type": "code",
   "execution_count": 12,
   "id": "cb2c054a",
   "metadata": {},
   "outputs": [],
   "source": [
    "rides['date'] = pd.to_datetime(rides['date'])"
   ]
  },
  {
   "cell_type": "code",
   "execution_count": 13,
   "id": "d0ef8773",
   "metadata": {},
   "outputs": [
    {
     "data": {
      "text/html": [
       "<div>\n",
       "<style scoped>\n",
       "    .dataframe tbody tr th:only-of-type {\n",
       "        vertical-align: middle;\n",
       "    }\n",
       "\n",
       "    .dataframe tbody tr th {\n",
       "        vertical-align: top;\n",
       "    }\n",
       "\n",
       "    .dataframe thead th {\n",
       "        text-align: right;\n",
       "    }\n",
       "</style>\n",
       "<table border=\"1\" class=\"dataframe\">\n",
       "  <thead>\n",
       "    <tr style=\"text-align: right;\">\n",
       "      <th></th>\n",
       "      <th>user_id</th>\n",
       "      <th>distance</th>\n",
       "      <th>duration</th>\n",
       "      <th>date</th>\n",
       "    </tr>\n",
       "  </thead>\n",
       "  <tbody>\n",
       "    <tr>\n",
       "      <th>0</th>\n",
       "      <td>1</td>\n",
       "      <td>4409.919140</td>\n",
       "      <td>25.599769</td>\n",
       "      <td>2021-01-01</td>\n",
       "    </tr>\n",
       "    <tr>\n",
       "      <th>1</th>\n",
       "      <td>1</td>\n",
       "      <td>2617.592153</td>\n",
       "      <td>15.816871</td>\n",
       "      <td>2021-01-18</td>\n",
       "    </tr>\n",
       "    <tr>\n",
       "      <th>2</th>\n",
       "      <td>1</td>\n",
       "      <td>754.159807</td>\n",
       "      <td>6.232113</td>\n",
       "      <td>2021-04-20</td>\n",
       "    </tr>\n",
       "    <tr>\n",
       "      <th>3</th>\n",
       "      <td>1</td>\n",
       "      <td>2694.783254</td>\n",
       "      <td>18.511000</td>\n",
       "      <td>2021-08-11</td>\n",
       "    </tr>\n",
       "    <tr>\n",
       "      <th>4</th>\n",
       "      <td>1</td>\n",
       "      <td>4028.687306</td>\n",
       "      <td>26.265803</td>\n",
       "      <td>2021-08-28</td>\n",
       "    </tr>\n",
       "  </tbody>\n",
       "</table>\n",
       "</div>"
      ],
      "text/plain": [
       "   user_id     distance   duration       date\n",
       "0        1  4409.919140  25.599769 2021-01-01\n",
       "1        1  2617.592153  15.816871 2021-01-18\n",
       "2        1   754.159807   6.232113 2021-04-20\n",
       "3        1  2694.783254  18.511000 2021-08-11\n",
       "4        1  4028.687306  26.265803 2021-08-28"
      ]
     },
     "execution_count": 13,
     "metadata": {},
     "output_type": "execute_result"
    }
   ],
   "source": [
    "rides.head()"
   ]
  },
  {
   "cell_type": "code",
   "execution_count": 14,
   "id": "6e2ece8e",
   "metadata": {},
   "outputs": [
    {
     "data": {
      "text/plain": [
       "user_id              int64\n",
       "distance           float64\n",
       "duration           float64\n",
       "date        datetime64[ns]\n",
       "dtype: object"
      ]
     },
     "execution_count": 14,
     "metadata": {},
     "output_type": "execute_result"
    }
   ],
   "source": [
    "rides.dtypes"
   ]
  },
  {
   "cell_type": "markdown",
   "id": "e60a70b0",
   "metadata": {},
   "source": [
    "##### Создадим столбец с номером месяца на основе столбца date"
   ]
  },
  {
   "cell_type": "code",
   "execution_count": 15,
   "id": "201514a0",
   "metadata": {},
   "outputs": [
    {
     "data": {
      "text/plain": [
       "Timestamp('2021-01-01 00:00:00')"
      ]
     },
     "execution_count": 15,
     "metadata": {},
     "output_type": "execute_result"
    }
   ],
   "source": [
    "rides['date'].min()"
   ]
  },
  {
   "cell_type": "code",
   "execution_count": 16,
   "id": "fee8adfb",
   "metadata": {},
   "outputs": [
    {
     "data": {
      "text/plain": [
       "Timestamp('2021-12-30 00:00:00')"
      ]
     },
     "execution_count": 16,
     "metadata": {},
     "output_type": "execute_result"
    }
   ],
   "source": [
    "rides['date'].max()"
   ]
  },
  {
   "cell_type": "markdown",
   "id": "985af9db",
   "metadata": {},
   "source": [
    "Как мы можем увидеть, данные о поездах у нас исключительно за 2021 год. С 01.01 по 30.12"
   ]
  },
  {
   "cell_type": "code",
   "execution_count": 17,
   "id": "f30bc275",
   "metadata": {},
   "outputs": [],
   "source": [
    "rides['month'] = rides['date'].dt.month"
   ]
  },
  {
   "cell_type": "code",
   "execution_count": 18,
   "id": "618e9fa8",
   "metadata": {},
   "outputs": [
    {
     "data": {
      "text/html": [
       "<div>\n",
       "<style scoped>\n",
       "    .dataframe tbody tr th:only-of-type {\n",
       "        vertical-align: middle;\n",
       "    }\n",
       "\n",
       "    .dataframe tbody tr th {\n",
       "        vertical-align: top;\n",
       "    }\n",
       "\n",
       "    .dataframe thead th {\n",
       "        text-align: right;\n",
       "    }\n",
       "</style>\n",
       "<table border=\"1\" class=\"dataframe\">\n",
       "  <thead>\n",
       "    <tr style=\"text-align: right;\">\n",
       "      <th></th>\n",
       "      <th>user_id</th>\n",
       "      <th>distance</th>\n",
       "      <th>duration</th>\n",
       "      <th>date</th>\n",
       "      <th>month</th>\n",
       "    </tr>\n",
       "  </thead>\n",
       "  <tbody>\n",
       "    <tr>\n",
       "      <th>0</th>\n",
       "      <td>1</td>\n",
       "      <td>4409.919140</td>\n",
       "      <td>25.599769</td>\n",
       "      <td>2021-01-01</td>\n",
       "      <td>1</td>\n",
       "    </tr>\n",
       "    <tr>\n",
       "      <th>1</th>\n",
       "      <td>1</td>\n",
       "      <td>2617.592153</td>\n",
       "      <td>15.816871</td>\n",
       "      <td>2021-01-18</td>\n",
       "      <td>1</td>\n",
       "    </tr>\n",
       "    <tr>\n",
       "      <th>2</th>\n",
       "      <td>1</td>\n",
       "      <td>754.159807</td>\n",
       "      <td>6.232113</td>\n",
       "      <td>2021-04-20</td>\n",
       "      <td>4</td>\n",
       "    </tr>\n",
       "    <tr>\n",
       "      <th>3</th>\n",
       "      <td>1</td>\n",
       "      <td>2694.783254</td>\n",
       "      <td>18.511000</td>\n",
       "      <td>2021-08-11</td>\n",
       "      <td>8</td>\n",
       "    </tr>\n",
       "    <tr>\n",
       "      <th>4</th>\n",
       "      <td>1</td>\n",
       "      <td>4028.687306</td>\n",
       "      <td>26.265803</td>\n",
       "      <td>2021-08-28</td>\n",
       "      <td>8</td>\n",
       "    </tr>\n",
       "  </tbody>\n",
       "</table>\n",
       "</div>"
      ],
      "text/plain": [
       "   user_id     distance   duration       date  month\n",
       "0        1  4409.919140  25.599769 2021-01-01      1\n",
       "1        1  2617.592153  15.816871 2021-01-18      1\n",
       "2        1   754.159807   6.232113 2021-04-20      4\n",
       "3        1  2694.783254  18.511000 2021-08-11      8\n",
       "4        1  4028.687306  26.265803 2021-08-28      8"
      ]
     },
     "execution_count": 18,
     "metadata": {},
     "output_type": "execute_result"
    }
   ],
   "source": [
    "rides.head()"
   ]
  },
  {
   "cell_type": "code",
   "execution_count": 19,
   "id": "0d3dd48e",
   "metadata": {},
   "outputs": [
    {
     "data": {
      "text/plain": [
       "user_id              int64\n",
       "distance           float64\n",
       "duration           float64\n",
       "date        datetime64[ns]\n",
       "month                int64\n",
       "dtype: object"
      ]
     },
     "execution_count": 19,
     "metadata": {},
     "output_type": "execute_result"
    }
   ],
   "source": [
    "rides.dtypes"
   ]
  },
  {
   "cell_type": "markdown",
   "id": "365693dc",
   "metadata": {},
   "source": [
    "##### Изучим дубликаты"
   ]
  },
  {
   "cell_type": "code",
   "execution_count": 20,
   "id": "f346a6c7",
   "metadata": {},
   "outputs": [
    {
     "name": "stdout",
     "output_type": "stream",
     "text": [
      "user_id                31\n",
      "name                 1371\n",
      "age                  1536\n",
      "city                 1557\n",
      "subscription_type    1563\n",
      "dtype: int64\n"
     ]
    }
   ],
   "source": [
    "duplicate_counts_users = users.apply(lambda x: x.duplicated().sum())\n",
    "print(duplicate_counts_users)"
   ]
  },
  {
   "cell_type": "code",
   "execution_count": 21,
   "id": "e04e7400",
   "metadata": {},
   "outputs": [
    {
     "name": "stdout",
     "output_type": "stream",
     "text": [
      "user_id     16534\n",
      "distance        0\n",
      "duration       94\n",
      "date        17704\n",
      "month       18056\n",
      "dtype: int64\n"
     ]
    }
   ],
   "source": [
    "duplicate_counts_rides = rides.apply(lambda x: x.duplicated().sum())\n",
    "print(duplicate_counts_rides)"
   ]
  },
  {
   "cell_type": "code",
   "execution_count": 22,
   "id": "d3fabc99",
   "metadata": {},
   "outputs": [
    {
     "name": "stdout",
     "output_type": "stream",
     "text": [
      "subscription_type    0\n",
      "minute_price         0\n",
      "start_ride_price     0\n",
      "subscription_fee     0\n",
      "dtype: int64\n"
     ]
    }
   ],
   "source": [
    "duplicate_counts_subs = subs.apply(lambda x: x.duplicated().sum())\n",
    "print(duplicate_counts_subs)"
   ]
  },
  {
   "cell_type": "markdown",
   "id": "0ce4e607",
   "metadata": {},
   "source": [
    "Как мы можем заметить дубликаты которые нужно обрабатывать находятся только в таблице users, у нас не должно быть в списке юзеров одинаковых юзеров, они должны быть уникальными. Во всех остальных таблицах, да и столбцах таблицы users, дубликаты очень даже приветствуются. "
   ]
  },
  {
   "cell_type": "code",
   "execution_count": 23,
   "id": "658a895e",
   "metadata": {},
   "outputs": [],
   "source": [
    "users = users.drop_duplicates(subset='user_id')"
   ]
  },
  {
   "cell_type": "code",
   "execution_count": 24,
   "id": "f33eff41",
   "metadata": {},
   "outputs": [
    {
     "name": "stdout",
     "output_type": "stream",
     "text": [
      "user_id                 0\n",
      "name                 1340\n",
      "age                  1505\n",
      "city                 1526\n",
      "subscription_type    1532\n",
      "dtype: int64\n"
     ]
    }
   ],
   "source": [
    "duplicate_counts_users = users.apply(lambda x: x.duplicated().sum())\n",
    "print(duplicate_counts_users)"
   ]
  },
  {
   "cell_type": "markdown",
   "id": "e227f5b0",
   "metadata": {},
   "source": [
    "Итогом проделанной работы имеем то, что разных пользователей с одним и тем же уникальным айди нет. То, что имена, города и так далее повторяются - это НОРМА. "
   ]
  },
  {
   "cell_type": "markdown",
   "id": "dab490f0",
   "metadata": {},
   "source": [
    "#### Шаг 3. Исследовательский анализ данных"
   ]
  },
  {
   "cell_type": "markdown",
   "id": "cf7f4ea0",
   "metadata": {},
   "source": [
    "##### Частота встречаемости городов"
   ]
  },
  {
   "cell_type": "code",
   "execution_count": 25,
   "id": "ee399e4b",
   "metadata": {},
   "outputs": [
    {
     "data": {
      "text/plain": [
       "Text(0.5, 1.0, 'Статистика встречаемости городов')"
      ]
     },
     "execution_count": 25,
     "metadata": {},
     "output_type": "execute_result"
    },
    {
     "data": {
      "image/png": "[encoded data removed]",
      "text/plain": [
       "<Figure size 360x504 with 1 Axes>"
      ]
     },
     "metadata": {
      "needs_background": "light"
     },
     "output_type": "display_data"
    }
   ],
   "source": [
    "users['city'].value_counts().sort_values(ascending=False).plot(kind='barh', figsize=(5, 7), ylabel='Названия городов')\n",
    "plt.xlabel('Частота встречаемости городов')\n",
    "plt.title('Статистика встречаемости городов')"
   ]
  },
  {
   "cell_type": "markdown",
   "id": "d47189b4",
   "metadata": {},
   "source": [
    "Как мы можем заметить, чаще всего встречается город Пятигорск, меньше всего - Москва"
   ]
  },
  {
   "cell_type": "markdown",
   "id": "329e3169",
   "metadata": {},
   "source": [
    "##### Соотношение пользователей с подпиской и без подписки"
   ]
  },
  {
   "cell_type": "code",
   "execution_count": 26,
   "id": "cd423305",
   "metadata": {},
   "outputs": [
    {
     "data": {
      "text/plain": [
       "Text(0.5, 1.0, 'Процентное соотношение пользователей с разными видами подписок')"
      ]
     },
     "execution_count": 26,
     "metadata": {},
     "output_type": "execute_result"
    },
    {
     "data": {
      "image/png": "[encoded data removed]",
      "text/plain": [
       "<Figure size 432x288 with 1 Axes>"
      ]
     },
     "metadata": {},
     "output_type": "display_data"
    }
   ],
   "source": [
    "users['subscription_type'].value_counts().plot(kind='pie', autopct='%1.1f%%', ylabel='')\n",
    "plt.title('Процентное соотношение пользователей с разными видами подписок')"
   ]
  },
  {
   "cell_type": "markdown",
   "id": "99506a88",
   "metadata": {},
   "source": [
    "Как можем заметить бесплатных подписчиков больше, однако разница не такая уж и большая"
   ]
  },
  {
   "cell_type": "markdown",
   "id": "efa35932",
   "metadata": {},
   "source": [
    "##### Возраст пользователей"
   ]
  },
  {
   "cell_type": "code",
   "execution_count": 27,
   "id": "41f9d2c2",
   "metadata": {},
   "outputs": [
    {
     "data": {
      "text/plain": [
       "Text(0, 0.5, 'Количество пользователей')"
      ]
     },
     "execution_count": 27,
     "metadata": {},
     "output_type": "execute_result"
    },
    {
     "data": {
      "image/png": "[encoded data removed]",
      "text/plain": [
       "<Figure size 360x504 with 1 Axes>"
      ]
     },
     "metadata": {
      "needs_background": "light"
     },
     "output_type": "display_data"
    }
   ],
   "source": [
    "users['age'].hist(bins=100, figsize=(5, 7))\n",
    "plt.title('Статистика возраста пользователей')\n",
    "plt.xlabel('Возраст пользователей')\n",
    "plt.ylabel('Количество пользователей')"
   ]
  },
  {
   "cell_type": "code",
   "execution_count": 28,
   "id": "e8a68783",
   "metadata": {},
   "outputs": [
    {
     "data": {
      "text/plain": [
       "count    1534.000000\n",
       "mean       24.903520\n",
       "std         4.572367\n",
       "min        12.000000\n",
       "25%        22.000000\n",
       "50%        25.000000\n",
       "75%        28.000000\n",
       "max        43.000000\n",
       "Name: age, dtype: float64"
      ]
     },
     "execution_count": 28,
     "metadata": {},
     "output_type": "execute_result"
    }
   ],
   "source": [
    "users['age'].describe()"
   ]
  },
  {
   "cell_type": "markdown",
   "id": "cafdfd42",
   "metadata": {},
   "source": [
    "Как можно увидеть из этой гистограммы и данных из метода describe(), большинство пользователей - молодые люди от 20 до 30 лет"
   ]
  },
  {
   "cell_type": "markdown",
   "id": "c3372e3b",
   "metadata": {},
   "source": [
    "##### Расстояние, которое пользователь преодолел за одну поездку"
   ]
  },
  {
   "cell_type": "code",
   "execution_count": 29,
   "id": "8280416a",
   "metadata": {},
   "outputs": [
    {
     "data": {
      "text/plain": [
       "Text(0, 0.5, 'Количество поездок')"
      ]
     },
     "execution_count": 29,
     "metadata": {},
     "output_type": "execute_result"
    },
    {
     "data": {
      "image/png": "[encoded data removed]",
      "text/plain": [
       "<Figure size 504x504 with 1 Axes>"
      ]
     },
     "metadata": {
      "needs_background": "light"
     },
     "output_type": "display_data"
    }
   ],
   "source": [
    "rides['distance'].hist(bins=100, figsize=(7, 7))\n",
    "plt.title('Статистика расстояния поездок')\n",
    "plt.xlabel('Расстояния поездок')\n",
    "plt.ylabel('Количество поездок')"
   ]
  },
  {
   "cell_type": "markdown",
   "id": "8e7b9bba",
   "metadata": {},
   "source": [
    "В основном поездки длиной от 2.5 до 4 км, большинство - порядка 3 км"
   ]
  },
  {
   "cell_type": "markdown",
   "id": "8944e226",
   "metadata": {},
   "source": [
    "Два пиковых значения можно объяснить тем, что кто-то условно экономит время и деньги на такси, так как есть пробки. А кто-то берет например сгонять в магазин, либо, как я очень часто видел в МСК, подростки берут самокаты просто погонять по парку недолго. "
   ]
  },
  {
   "cell_type": "markdown",
   "id": "10f81c45",
   "metadata": {},
   "source": [
    "##### Продолжительность поездок"
   ]
  },
  {
   "cell_type": "code",
   "execution_count": 30,
   "id": "6bcf2deb",
   "metadata": {},
   "outputs": [
    {
     "data": {
      "text/plain": [
       "Text(0, 0.5, 'Количество поездок данной продолжительности')"
      ]
     },
     "execution_count": 30,
     "metadata": {},
     "output_type": "execute_result"
    },
    {
     "data": {
      "image/png": "[encoded data removed]",
      "text/plain": [
       "<Figure size 504x504 with 1 Axes>"
      ]
     },
     "metadata": {
      "needs_background": "light"
     },
     "output_type": "display_data"
    }
   ],
   "source": [
    "rides['duration'].hist(bins=100, figsize=(7, 7))\n",
    "plt.title('Статистика продолжительности поездок')\n",
    "plt.xlabel('Продолжительность поездок')\n",
    "plt.ylabel('Количество поездок данной продолжительности')"
   ]
  },
  {
   "cell_type": "markdown",
   "id": "16840895",
   "metadata": {},
   "source": [
    "В основном поездки занимают 15-20 минут +- несколько минут с каждой стороны"
   ]
  },
  {
   "cell_type": "markdown",
   "id": "a28e4e44",
   "metadata": {},
   "source": [
    "#### Шаг 4. Объединение данных"
   ]
  },
  {
   "cell_type": "markdown",
   "id": "a38a22fd",
   "metadata": {},
   "source": [
    "##### Объединим данные трех датафреймов"
   ]
  },
  {
   "cell_type": "code",
   "execution_count": 31,
   "id": "1838bec2",
   "metadata": {},
   "outputs": [],
   "source": [
    "merged_df = pd.merge(rides, users, on='user_id', how='left')\n",
    "final_df = pd.merge(merged_df, subs, on='subscription_type', how='left')"
   ]
  },
  {
   "cell_type": "markdown",
   "id": "bca06dfa",
   "metadata": {},
   "source": [
    "На данном этапе мы в два действия соединили все три датафрейма в один. Сначала таблицу о поездках с таблицей о пользователях. Далее получившуюся таблицу с данными о тарифах. "
   ]
  },
  {
   "cell_type": "code",
   "execution_count": 32,
   "id": "43961f2c",
   "metadata": {
    "scrolled": false
   },
   "outputs": [
    {
     "data": {
      "text/html": [
       "<div>\n",
       "<style scoped>\n",
       "    .dataframe tbody tr th:only-of-type {\n",
       "        vertical-align: middle;\n",
       "    }\n",
       "\n",
       "    .dataframe tbody tr th {\n",
       "        vertical-align: top;\n",
       "    }\n",
       "\n",
       "    .dataframe thead th {\n",
       "        text-align: right;\n",
       "    }\n",
       "</style>\n",
       "<table border=\"1\" class=\"dataframe\">\n",
       "  <thead>\n",
       "    <tr style=\"text-align: right;\">\n",
       "      <th></th>\n",
       "      <th>user_id</th>\n",
       "      <th>distance</th>\n",
       "      <th>duration</th>\n",
       "      <th>date</th>\n",
       "      <th>month</th>\n",
       "      <th>name</th>\n",
       "      <th>age</th>\n",
       "      <th>city</th>\n",
       "      <th>subscription_type</th>\n",
       "      <th>minute_price</th>\n",
       "      <th>start_ride_price</th>\n",
       "      <th>subscription_fee</th>\n",
       "    </tr>\n",
       "  </thead>\n",
       "  <tbody>\n",
       "    <tr>\n",
       "      <th>0</th>\n",
       "      <td>1</td>\n",
       "      <td>4409.919140</td>\n",
       "      <td>25.599769</td>\n",
       "      <td>2021-01-01</td>\n",
       "      <td>1</td>\n",
       "      <td>Кира</td>\n",
       "      <td>22</td>\n",
       "      <td>Тюмень</td>\n",
       "      <td>ultra</td>\n",
       "      <td>6</td>\n",
       "      <td>0</td>\n",
       "      <td>199</td>\n",
       "    </tr>\n",
       "    <tr>\n",
       "      <th>1</th>\n",
       "      <td>1</td>\n",
       "      <td>2617.592153</td>\n",
       "      <td>15.816871</td>\n",
       "      <td>2021-01-18</td>\n",
       "      <td>1</td>\n",
       "      <td>Кира</td>\n",
       "      <td>22</td>\n",
       "      <td>Тюмень</td>\n",
       "      <td>ultra</td>\n",
       "      <td>6</td>\n",
       "      <td>0</td>\n",
       "      <td>199</td>\n",
       "    </tr>\n",
       "    <tr>\n",
       "      <th>2</th>\n",
       "      <td>1</td>\n",
       "      <td>754.159807</td>\n",
       "      <td>6.232113</td>\n",
       "      <td>2021-04-20</td>\n",
       "      <td>4</td>\n",
       "      <td>Кира</td>\n",
       "      <td>22</td>\n",
       "      <td>Тюмень</td>\n",
       "      <td>ultra</td>\n",
       "      <td>6</td>\n",
       "      <td>0</td>\n",
       "      <td>199</td>\n",
       "    </tr>\n",
       "    <tr>\n",
       "      <th>3</th>\n",
       "      <td>1</td>\n",
       "      <td>2694.783254</td>\n",
       "      <td>18.511000</td>\n",
       "      <td>2021-08-11</td>\n",
       "      <td>8</td>\n",
       "      <td>Кира</td>\n",
       "      <td>22</td>\n",
       "      <td>Тюмень</td>\n",
       "      <td>ultra</td>\n",
       "      <td>6</td>\n",
       "      <td>0</td>\n",
       "      <td>199</td>\n",
       "    </tr>\n",
       "    <tr>\n",
       "      <th>4</th>\n",
       "      <td>1</td>\n",
       "      <td>4028.687306</td>\n",
       "      <td>26.265803</td>\n",
       "      <td>2021-08-28</td>\n",
       "      <td>8</td>\n",
       "      <td>Кира</td>\n",
       "      <td>22</td>\n",
       "      <td>Тюмень</td>\n",
       "      <td>ultra</td>\n",
       "      <td>6</td>\n",
       "      <td>0</td>\n",
       "      <td>199</td>\n",
       "    </tr>\n",
       "  </tbody>\n",
       "</table>\n",
       "</div>"
      ],
      "text/plain": [
       "   user_id     distance   duration       date  month  name  age    city  \\\n",
       "0        1  4409.919140  25.599769 2021-01-01      1  Кира   22  Тюмень   \n",
       "1        1  2617.592153  15.816871 2021-01-18      1  Кира   22  Тюмень   \n",
       "2        1   754.159807   6.232113 2021-04-20      4  Кира   22  Тюмень   \n",
       "3        1  2694.783254  18.511000 2021-08-11      8  Кира   22  Тюмень   \n",
       "4        1  4028.687306  26.265803 2021-08-28      8  Кира   22  Тюмень   \n",
       "\n",
       "  subscription_type  minute_price  start_ride_price  subscription_fee  \n",
       "0             ultra             6                 0               199  \n",
       "1             ultra             6                 0               199  \n",
       "2             ultra             6                 0               199  \n",
       "3             ultra             6                 0               199  \n",
       "4             ultra             6                 0               199  "
      ]
     },
     "execution_count": 32,
     "metadata": {},
     "output_type": "execute_result"
    }
   ],
   "source": [
    "final_df.head()"
   ]
  },
  {
   "cell_type": "code",
   "execution_count": 33,
   "id": "29264ed5",
   "metadata": {},
   "outputs": [
    {
     "data": {
      "text/plain": [
       "(18068, 5)"
      ]
     },
     "execution_count": 33,
     "metadata": {},
     "output_type": "execute_result"
    }
   ],
   "source": [
    "rides.shape"
   ]
  },
  {
   "cell_type": "code",
   "execution_count": 34,
   "id": "426009be",
   "metadata": {},
   "outputs": [
    {
     "data": {
      "text/plain": [
       "(18068, 9)"
      ]
     },
     "execution_count": 34,
     "metadata": {},
     "output_type": "execute_result"
    }
   ],
   "source": [
    "merged_df.shape"
   ]
  },
  {
   "cell_type": "code",
   "execution_count": 35,
   "id": "94fce542",
   "metadata": {},
   "outputs": [
    {
     "data": {
      "text/plain": [
       "(18068, 12)"
      ]
     },
     "execution_count": 35,
     "metadata": {},
     "output_type": "execute_result"
    }
   ],
   "source": [
    "final_df.shape"
   ]
  },
  {
   "cell_type": "markdown",
   "id": "9fb713e2",
   "metadata": {},
   "source": [
    "Ничего не потеряли и не добавили"
   ]
  },
  {
   "cell_type": "markdown",
   "id": "6ec4d426",
   "metadata": {},
   "source": [
    "##### Разобъем полученный датафрейм на два, которые отличаются по типу подписки пользователя"
   ]
  },
  {
   "cell_type": "code",
   "execution_count": 36,
   "id": "c9aa00be",
   "metadata": {},
   "outputs": [],
   "source": [
    "free_users_df = final_df[final_df['subscription_type'] == 'free']\n",
    "ultra_users_df = final_df[final_df['subscription_type'] == 'ultra']"
   ]
  },
  {
   "cell_type": "code",
   "execution_count": 37,
   "id": "82ff506e",
   "metadata": {},
   "outputs": [
    {
     "data": {
      "text/html": [
       "<div>\n",
       "<style scoped>\n",
       "    .dataframe tbody tr th:only-of-type {\n",
       "        vertical-align: middle;\n",
       "    }\n",
       "\n",
       "    .dataframe tbody tr th {\n",
       "        vertical-align: top;\n",
       "    }\n",
       "\n",
       "    .dataframe thead th {\n",
       "        text-align: right;\n",
       "    }\n",
       "</style>\n",
       "<table border=\"1\" class=\"dataframe\">\n",
       "  <thead>\n",
       "    <tr style=\"text-align: right;\">\n",
       "      <th></th>\n",
       "      <th>user_id</th>\n",
       "      <th>distance</th>\n",
       "      <th>duration</th>\n",
       "      <th>date</th>\n",
       "      <th>month</th>\n",
       "      <th>name</th>\n",
       "      <th>age</th>\n",
       "      <th>city</th>\n",
       "      <th>subscription_type</th>\n",
       "      <th>minute_price</th>\n",
       "      <th>start_ride_price</th>\n",
       "      <th>subscription_fee</th>\n",
       "    </tr>\n",
       "  </thead>\n",
       "  <tbody>\n",
       "    <tr>\n",
       "      <th>6500</th>\n",
       "      <td>700</td>\n",
       "      <td>2515.690719</td>\n",
       "      <td>14.944286</td>\n",
       "      <td>2021-01-02</td>\n",
       "      <td>1</td>\n",
       "      <td>Айдар</td>\n",
       "      <td>22</td>\n",
       "      <td>Омск</td>\n",
       "      <td>free</td>\n",
       "      <td>8</td>\n",
       "      <td>50</td>\n",
       "      <td>0</td>\n",
       "    </tr>\n",
       "    <tr>\n",
       "      <th>6501</th>\n",
       "      <td>700</td>\n",
       "      <td>846.932642</td>\n",
       "      <td>16.234663</td>\n",
       "      <td>2021-02-01</td>\n",
       "      <td>2</td>\n",
       "      <td>Айдар</td>\n",
       "      <td>22</td>\n",
       "      <td>Омск</td>\n",
       "      <td>free</td>\n",
       "      <td>8</td>\n",
       "      <td>50</td>\n",
       "      <td>0</td>\n",
       "    </tr>\n",
       "    <tr>\n",
       "      <th>6502</th>\n",
       "      <td>700</td>\n",
       "      <td>4004.434142</td>\n",
       "      <td>20.016628</td>\n",
       "      <td>2021-02-04</td>\n",
       "      <td>2</td>\n",
       "      <td>Айдар</td>\n",
       "      <td>22</td>\n",
       "      <td>Омск</td>\n",
       "      <td>free</td>\n",
       "      <td>8</td>\n",
       "      <td>50</td>\n",
       "      <td>0</td>\n",
       "    </tr>\n",
       "    <tr>\n",
       "      <th>6503</th>\n",
       "      <td>700</td>\n",
       "      <td>1205.911290</td>\n",
       "      <td>9.782872</td>\n",
       "      <td>2021-02-10</td>\n",
       "      <td>2</td>\n",
       "      <td>Айдар</td>\n",
       "      <td>22</td>\n",
       "      <td>Омск</td>\n",
       "      <td>free</td>\n",
       "      <td>8</td>\n",
       "      <td>50</td>\n",
       "      <td>0</td>\n",
       "    </tr>\n",
       "    <tr>\n",
       "      <th>6504</th>\n",
       "      <td>700</td>\n",
       "      <td>3047.379435</td>\n",
       "      <td>17.427673</td>\n",
       "      <td>2021-02-14</td>\n",
       "      <td>2</td>\n",
       "      <td>Айдар</td>\n",
       "      <td>22</td>\n",
       "      <td>Омск</td>\n",
       "      <td>free</td>\n",
       "      <td>8</td>\n",
       "      <td>50</td>\n",
       "      <td>0</td>\n",
       "    </tr>\n",
       "  </tbody>\n",
       "</table>\n",
       "</div>"
      ],
      "text/plain": [
       "      user_id     distance   duration       date  month   name  age  city  \\\n",
       "6500      700  2515.690719  14.944286 2021-01-02      1  Айдар   22  Омск   \n",
       "6501      700   846.932642  16.234663 2021-02-01      2  Айдар   22  Омск   \n",
       "6502      700  4004.434142  20.016628 2021-02-04      2  Айдар   22  Омск   \n",
       "6503      700  1205.911290   9.782872 2021-02-10      2  Айдар   22  Омск   \n",
       "6504      700  3047.379435  17.427673 2021-02-14      2  Айдар   22  Омск   \n",
       "\n",
       "     subscription_type  minute_price  start_ride_price  subscription_fee  \n",
       "6500              free             8                50                 0  \n",
       "6501              free             8                50                 0  \n",
       "6502              free             8                50                 0  \n",
       "6503              free             8                50                 0  \n",
       "6504              free             8                50                 0  "
      ]
     },
     "execution_count": 37,
     "metadata": {},
     "output_type": "execute_result"
    }
   ],
   "source": [
    "free_users_df.head()"
   ]
  },
  {
   "cell_type": "code",
   "execution_count": 38,
   "id": "bf67fb4d",
   "metadata": {},
   "outputs": [
    {
     "data": {
      "text/html": [
       "<div>\n",
       "<style scoped>\n",
       "    .dataframe tbody tr th:only-of-type {\n",
       "        vertical-align: middle;\n",
       "    }\n",
       "\n",
       "    .dataframe tbody tr th {\n",
       "        vertical-align: top;\n",
       "    }\n",
       "\n",
       "    .dataframe thead th {\n",
       "        text-align: right;\n",
       "    }\n",
       "</style>\n",
       "<table border=\"1\" class=\"dataframe\">\n",
       "  <thead>\n",
       "    <tr style=\"text-align: right;\">\n",
       "      <th></th>\n",
       "      <th>user_id</th>\n",
       "      <th>distance</th>\n",
       "      <th>duration</th>\n",
       "      <th>date</th>\n",
       "      <th>month</th>\n",
       "      <th>name</th>\n",
       "      <th>age</th>\n",
       "      <th>city</th>\n",
       "      <th>subscription_type</th>\n",
       "      <th>minute_price</th>\n",
       "      <th>start_ride_price</th>\n",
       "      <th>subscription_fee</th>\n",
       "    </tr>\n",
       "  </thead>\n",
       "  <tbody>\n",
       "    <tr>\n",
       "      <th>0</th>\n",
       "      <td>1</td>\n",
       "      <td>4409.919140</td>\n",
       "      <td>25.599769</td>\n",
       "      <td>2021-01-01</td>\n",
       "      <td>1</td>\n",
       "      <td>Кира</td>\n",
       "      <td>22</td>\n",
       "      <td>Тюмень</td>\n",
       "      <td>ultra</td>\n",
       "      <td>6</td>\n",
       "      <td>0</td>\n",
       "      <td>199</td>\n",
       "    </tr>\n",
       "    <tr>\n",
       "      <th>1</th>\n",
       "      <td>1</td>\n",
       "      <td>2617.592153</td>\n",
       "      <td>15.816871</td>\n",
       "      <td>2021-01-18</td>\n",
       "      <td>1</td>\n",
       "      <td>Кира</td>\n",
       "      <td>22</td>\n",
       "      <td>Тюмень</td>\n",
       "      <td>ultra</td>\n",
       "      <td>6</td>\n",
       "      <td>0</td>\n",
       "      <td>199</td>\n",
       "    </tr>\n",
       "    <tr>\n",
       "      <th>2</th>\n",
       "      <td>1</td>\n",
       "      <td>754.159807</td>\n",
       "      <td>6.232113</td>\n",
       "      <td>2021-04-20</td>\n",
       "      <td>4</td>\n",
       "      <td>Кира</td>\n",
       "      <td>22</td>\n",
       "      <td>Тюмень</td>\n",
       "      <td>ultra</td>\n",
       "      <td>6</td>\n",
       "      <td>0</td>\n",
       "      <td>199</td>\n",
       "    </tr>\n",
       "    <tr>\n",
       "      <th>3</th>\n",
       "      <td>1</td>\n",
       "      <td>2694.783254</td>\n",
       "      <td>18.511000</td>\n",
       "      <td>2021-08-11</td>\n",
       "      <td>8</td>\n",
       "      <td>Кира</td>\n",
       "      <td>22</td>\n",
       "      <td>Тюмень</td>\n",
       "      <td>ultra</td>\n",
       "      <td>6</td>\n",
       "      <td>0</td>\n",
       "      <td>199</td>\n",
       "    </tr>\n",
       "    <tr>\n",
       "      <th>4</th>\n",
       "      <td>1</td>\n",
       "      <td>4028.687306</td>\n",
       "      <td>26.265803</td>\n",
       "      <td>2021-08-28</td>\n",
       "      <td>8</td>\n",
       "      <td>Кира</td>\n",
       "      <td>22</td>\n",
       "      <td>Тюмень</td>\n",
       "      <td>ultra</td>\n",
       "      <td>6</td>\n",
       "      <td>0</td>\n",
       "      <td>199</td>\n",
       "    </tr>\n",
       "  </tbody>\n",
       "</table>\n",
       "</div>"
      ],
      "text/plain": [
       "   user_id     distance   duration       date  month  name  age    city  \\\n",
       "0        1  4409.919140  25.599769 2021-01-01      1  Кира   22  Тюмень   \n",
       "1        1  2617.592153  15.816871 2021-01-18      1  Кира   22  Тюмень   \n",
       "2        1   754.159807   6.232113 2021-04-20      4  Кира   22  Тюмень   \n",
       "3        1  2694.783254  18.511000 2021-08-11      8  Кира   22  Тюмень   \n",
       "4        1  4028.687306  26.265803 2021-08-28      8  Кира   22  Тюмень   \n",
       "\n",
       "  subscription_type  minute_price  start_ride_price  subscription_fee  \n",
       "0             ultra             6                 0               199  \n",
       "1             ultra             6                 0               199  \n",
       "2             ultra             6                 0               199  \n",
       "3             ultra             6                 0               199  \n",
       "4             ultra             6                 0               199  "
      ]
     },
     "execution_count": 38,
     "metadata": {},
     "output_type": "execute_result"
    }
   ],
   "source": [
    "ultra_users_df.head()"
   ]
  },
  {
   "cell_type": "markdown",
   "id": "120c7230",
   "metadata": {},
   "source": [
    "##### Визуализируем информацию о расстоянии и времени поездок для пользователей обеих категорий"
   ]
  },
  {
   "cell_type": "markdown",
   "id": "045d0c33",
   "metadata": {},
   "source": [
    "###### Для бесплатных"
   ]
  },
  {
   "cell_type": "code",
   "execution_count": 39,
   "id": "aa956932",
   "metadata": {},
   "outputs": [
    {
     "data": {
      "text/plain": [
       "Text(0, 0.5, 'Количество поездок заданной длины')"
      ]
     },
     "execution_count": 39,
     "metadata": {},
     "output_type": "execute_result"
    },
    {
     "data": {
      "image/png": "[encoded data removed]",
      "text/plain": [
       "<Figure size 504x504 with 1 Axes>"
      ]
     },
     "metadata": {
      "needs_background": "light"
     },
     "output_type": "display_data"
    }
   ],
   "source": [
    "free_users_df['distance'].hist(bins=100, color='skyblue', figsize=(7, 7))\n",
    "plt.title('Расстояния поездок пользователей без подписки')\n",
    "plt.xlabel('Дальность поездок')\n",
    "plt.ylabel('Количество поездок заданной длины')"
   ]
  },
  {
   "cell_type": "code",
   "execution_count": 40,
   "id": "a8a62ff6",
   "metadata": {},
   "outputs": [
    {
     "data": {
      "text/plain": [
       "Text(0, 0.5, 'Количество поездок с заданным временем')"
      ]
     },
     "execution_count": 40,
     "metadata": {},
     "output_type": "execute_result"
    },
    {
     "data": {
      "image/png": "[encoded data removed]",
      "text/plain": [
       "<Figure size 504x504 with 1 Axes>"
      ]
     },
     "metadata": {
      "needs_background": "light"
     },
     "output_type": "display_data"
    }
   ],
   "source": [
    "free_users_df['duration'].hist(bins=100, color='lightcoral', figsize=(7, 7))\n",
    "plt.title('Время поездок пользователей без подписки')\n",
    "plt.xlabel('Длительность поездок')\n",
    "plt.ylabel('Количество поездок с заданным временем')"
   ]
  },
  {
   "cell_type": "markdown",
   "id": "ae43b2d0",
   "metadata": {},
   "source": [
    "Как мы можем увидеть по двум графикам, средняя дистанция на бесплатном 2-4 км, а время 15-20 минут"
   ]
  },
  {
   "cell_type": "markdown",
   "id": "8f245943",
   "metadata": {},
   "source": [
    "###### Для подписчиков"
   ]
  },
  {
   "cell_type": "code",
   "execution_count": 41,
   "id": "16e4c454",
   "metadata": {},
   "outputs": [
    {
     "data": {
      "text/plain": [
       "Text(0, 0.5, 'Количество поездок с заданным расстоянием')"
      ]
     },
     "execution_count": 41,
     "metadata": {},
     "output_type": "execute_result"
    },
    {
     "data": {
      "image/png": "[encoded data removed]",
      "text/plain": [
       "<Figure size 504x504 with 1 Axes>"
      ]
     },
     "metadata": {
      "needs_background": "light"
     },
     "output_type": "display_data"
    }
   ],
   "source": [
    "ultra_users_df['distance'].hist(bins=100, color='skyblue', figsize=(7, 7))\n",
    "plt.title('Расстояния поездок пользователей с подпиской')\n",
    "plt.xlabel('Дальность поездок')\n",
    "plt.ylabel('Количество поездок с заданным расстоянием')"
   ]
  },
  {
   "cell_type": "code",
   "execution_count": 42,
   "id": "0abaf5ff",
   "metadata": {},
   "outputs": [
    {
     "data": {
      "text/plain": [
       "Text(0, 0.5, 'Количество поездок с заданным временем')"
      ]
     },
     "execution_count": 42,
     "metadata": {},
     "output_type": "execute_result"
    },
    {
     "data": {
      "image/png": "[encoded data removed]",
      "text/plain": [
       "<Figure size 504x504 with 1 Axes>"
      ]
     },
     "metadata": {
      "needs_background": "light"
     },
     "output_type": "display_data"
    }
   ],
   "source": [
    "ultra_users_df['duration'].hist(bins=100, color='lightcoral', figsize=(7, 7))\n",
    "plt.title('Время поездок пользователей с подпиской')\n",
    "plt.xlabel('Длительность поездок')\n",
    "plt.ylabel('Количество поездок с заданным временем')"
   ]
  },
  {
   "cell_type": "markdown",
   "id": "fec7b062",
   "metadata": {},
   "source": [
    "Как мы можем увидеть, подписчики преодолевают расстояние близкое к 3-м километрам с обеих сторон. А по времени это все те же 15-20 мин"
   ]
  },
  {
   "cell_type": "markdown",
   "id": "797653f1",
   "metadata": {},
   "source": [
    "#### Шаг 5. Подсчёт выручки"
   ]
  },
  {
   "cell_type": "markdown",
   "id": "c3a71694",
   "metadata": {},
   "source": [
    "##### Создадим датафрейм с агрегированными данными о поездках на основе датафрейма с объединёнными данными из шага 4"
   ]
  },
  {
   "cell_type": "code",
   "execution_count": 43,
   "id": "d7d47956",
   "metadata": {},
   "outputs": [],
   "source": [
    "final_df['duration'] = np.ceil(final_df['duration']) "
   ]
  },
  {
   "cell_type": "code",
   "execution_count": 44,
   "id": "15263d96",
   "metadata": {},
   "outputs": [],
   "source": [
    "grouped = final_df.groupby(['user_id', 'month'])\n",
    "\n",
    "agg_data = grouped.agg({\n",
    "    'distance': 'sum',\n",
    "    'duration': 'sum',\n",
    "    'user_id': 'count',\n",
    "    'minute_price': 'first',\n",
    "    'start_ride_price': 'first',\n",
    "    'subscription_fee': 'first'\n",
    "})\n",
    "agg_data.rename(columns={'user_id': 'rides_amount'}, inplace=True)\n",
    "agg_data['monthly_revenue'] = agg_data['start_ride_price'] * agg_data['rides_amount'] + \\\n",
    "                              agg_data['minute_price'] * agg_data['duration'] + \\\n",
    "                              agg_data['subscription_fee']"
   ]
  },
  {
   "cell_type": "code",
   "execution_count": 45,
   "id": "1ea2b636",
   "metadata": {},
   "outputs": [],
   "source": [
    "agg_data['subscription_type'] = agg_data['subscription_fee'].apply(lambda x: 'ultra' if x == 199 else 'free')"
   ]
  },
  {
   "cell_type": "code",
   "execution_count": 46,
   "id": "29b93d49",
   "metadata": {
    "scrolled": true
   },
   "outputs": [
    {
     "data": {
      "text/html": [
       "<div>\n",
       "<style scoped>\n",
       "    .dataframe tbody tr th:only-of-type {\n",
       "        vertical-align: middle;\n",
       "    }\n",
       "\n",
       "    .dataframe tbody tr th {\n",
       "        vertical-align: top;\n",
       "    }\n",
       "\n",
       "    .dataframe thead th {\n",
       "        text-align: right;\n",
       "    }\n",
       "</style>\n",
       "<table border=\"1\" class=\"dataframe\">\n",
       "  <thead>\n",
       "    <tr style=\"text-align: right;\">\n",
       "      <th></th>\n",
       "      <th></th>\n",
       "      <th>distance</th>\n",
       "      <th>duration</th>\n",
       "      <th>rides_amount</th>\n",
       "      <th>minute_price</th>\n",
       "      <th>start_ride_price</th>\n",
       "      <th>subscription_fee</th>\n",
       "      <th>monthly_revenue</th>\n",
       "      <th>subscription_type</th>\n",
       "    </tr>\n",
       "    <tr>\n",
       "      <th>user_id</th>\n",
       "      <th>month</th>\n",
       "      <th></th>\n",
       "      <th></th>\n",
       "      <th></th>\n",
       "      <th></th>\n",
       "      <th></th>\n",
       "      <th></th>\n",
       "      <th></th>\n",
       "      <th></th>\n",
       "    </tr>\n",
       "  </thead>\n",
       "  <tbody>\n",
       "    <tr>\n",
       "      <th rowspan=\"6\" valign=\"top\">1</th>\n",
       "      <th>1</th>\n",
       "      <td>7027.511294</td>\n",
       "      <td>42.0</td>\n",
       "      <td>2</td>\n",
       "      <td>6</td>\n",
       "      <td>0</td>\n",
       "      <td>199</td>\n",
       "      <td>451.0</td>\n",
       "      <td>ultra</td>\n",
       "    </tr>\n",
       "    <tr>\n",
       "      <th>4</th>\n",
       "      <td>754.159807</td>\n",
       "      <td>7.0</td>\n",
       "      <td>1</td>\n",
       "      <td>6</td>\n",
       "      <td>0</td>\n",
       "      <td>199</td>\n",
       "      <td>241.0</td>\n",
       "      <td>ultra</td>\n",
       "    </tr>\n",
       "    <tr>\n",
       "      <th>8</th>\n",
       "      <td>6723.470560</td>\n",
       "      <td>46.0</td>\n",
       "      <td>2</td>\n",
       "      <td>6</td>\n",
       "      <td>0</td>\n",
       "      <td>199</td>\n",
       "      <td>475.0</td>\n",
       "      <td>ultra</td>\n",
       "    </tr>\n",
       "    <tr>\n",
       "      <th>10</th>\n",
       "      <td>5809.911100</td>\n",
       "      <td>32.0</td>\n",
       "      <td>2</td>\n",
       "      <td>6</td>\n",
       "      <td>0</td>\n",
       "      <td>199</td>\n",
       "      <td>391.0</td>\n",
       "      <td>ultra</td>\n",
       "    </tr>\n",
       "    <tr>\n",
       "      <th>11</th>\n",
       "      <td>7003.499363</td>\n",
       "      <td>56.0</td>\n",
       "      <td>3</td>\n",
       "      <td>6</td>\n",
       "      <td>0</td>\n",
       "      <td>199</td>\n",
       "      <td>535.0</td>\n",
       "      <td>ultra</td>\n",
       "    </tr>\n",
       "    <tr>\n",
       "      <th>12</th>\n",
       "      <td>6751.629942</td>\n",
       "      <td>28.0</td>\n",
       "      <td>2</td>\n",
       "      <td>6</td>\n",
       "      <td>0</td>\n",
       "      <td>199</td>\n",
       "      <td>367.0</td>\n",
       "      <td>ultra</td>\n",
       "    </tr>\n",
       "    <tr>\n",
       "      <th rowspan=\"7\" valign=\"top\">2</th>\n",
       "      <th>3</th>\n",
       "      <td>10187.723006</td>\n",
       "      <td>63.0</td>\n",
       "      <td>3</td>\n",
       "      <td>6</td>\n",
       "      <td>0</td>\n",
       "      <td>199</td>\n",
       "      <td>577.0</td>\n",
       "      <td>ultra</td>\n",
       "    </tr>\n",
       "    <tr>\n",
       "      <th>4</th>\n",
       "      <td>6164.381824</td>\n",
       "      <td>40.0</td>\n",
       "      <td>2</td>\n",
       "      <td>6</td>\n",
       "      <td>0</td>\n",
       "      <td>199</td>\n",
       "      <td>439.0</td>\n",
       "      <td>ultra</td>\n",
       "    </tr>\n",
       "    <tr>\n",
       "      <th>6</th>\n",
       "      <td>3255.338202</td>\n",
       "      <td>14.0</td>\n",
       "      <td>1</td>\n",
       "      <td>6</td>\n",
       "      <td>0</td>\n",
       "      <td>199</td>\n",
       "      <td>283.0</td>\n",
       "      <td>ultra</td>\n",
       "    </tr>\n",
       "    <tr>\n",
       "      <th>7</th>\n",
       "      <td>6780.722964</td>\n",
       "      <td>48.0</td>\n",
       "      <td>2</td>\n",
       "      <td>6</td>\n",
       "      <td>0</td>\n",
       "      <td>199</td>\n",
       "      <td>487.0</td>\n",
       "      <td>ultra</td>\n",
       "    </tr>\n",
       "    <tr>\n",
       "      <th>8</th>\n",
       "      <td>923.007439</td>\n",
       "      <td>7.0</td>\n",
       "      <td>1</td>\n",
       "      <td>6</td>\n",
       "      <td>0</td>\n",
       "      <td>199</td>\n",
       "      <td>241.0</td>\n",
       "      <td>ultra</td>\n",
       "    </tr>\n",
       "    <tr>\n",
       "      <th>10</th>\n",
       "      <td>2824.636598</td>\n",
       "      <td>19.0</td>\n",
       "      <td>1</td>\n",
       "      <td>6</td>\n",
       "      <td>0</td>\n",
       "      <td>199</td>\n",
       "      <td>313.0</td>\n",
       "      <td>ultra</td>\n",
       "    </tr>\n",
       "    <tr>\n",
       "      <th>12</th>\n",
       "      <td>3828.248580</td>\n",
       "      <td>12.0</td>\n",
       "      <td>1</td>\n",
       "      <td>6</td>\n",
       "      <td>0</td>\n",
       "      <td>199</td>\n",
       "      <td>271.0</td>\n",
       "      <td>ultra</td>\n",
       "    </tr>\n",
       "    <tr>\n",
       "      <th rowspan=\"7\" valign=\"top\">3</th>\n",
       "      <th>1</th>\n",
       "      <td>3061.777147</td>\n",
       "      <td>13.0</td>\n",
       "      <td>1</td>\n",
       "      <td>6</td>\n",
       "      <td>0</td>\n",
       "      <td>199</td>\n",
       "      <td>277.0</td>\n",
       "      <td>ultra</td>\n",
       "    </tr>\n",
       "    <tr>\n",
       "      <th>2</th>\n",
       "      <td>5421.152016</td>\n",
       "      <td>39.0</td>\n",
       "      <td>2</td>\n",
       "      <td>6</td>\n",
       "      <td>0</td>\n",
       "      <td>199</td>\n",
       "      <td>433.0</td>\n",
       "      <td>ultra</td>\n",
       "    </tr>\n",
       "    <tr>\n",
       "      <th>4</th>\n",
       "      <td>2956.651632</td>\n",
       "      <td>21.0</td>\n",
       "      <td>1</td>\n",
       "      <td>6</td>\n",
       "      <td>0</td>\n",
       "      <td>199</td>\n",
       "      <td>325.0</td>\n",
       "      <td>ultra</td>\n",
       "    </tr>\n",
       "    <tr>\n",
       "      <th>5</th>\n",
       "      <td>9064.026918</td>\n",
       "      <td>63.0</td>\n",
       "      <td>3</td>\n",
       "      <td>6</td>\n",
       "      <td>0</td>\n",
       "      <td>199</td>\n",
       "      <td>577.0</td>\n",
       "      <td>ultra</td>\n",
       "    </tr>\n",
       "    <tr>\n",
       "      <th>7</th>\n",
       "      <td>10919.595403</td>\n",
       "      <td>67.0</td>\n",
       "      <td>3</td>\n",
       "      <td>6</td>\n",
       "      <td>0</td>\n",
       "      <td>199</td>\n",
       "      <td>601.0</td>\n",
       "      <td>ultra</td>\n",
       "    </tr>\n",
       "    <tr>\n",
       "      <th>9</th>\n",
       "      <td>2891.012822</td>\n",
       "      <td>23.0</td>\n",
       "      <td>1</td>\n",
       "      <td>6</td>\n",
       "      <td>0</td>\n",
       "      <td>199</td>\n",
       "      <td>337.0</td>\n",
       "      <td>ultra</td>\n",
       "    </tr>\n",
       "    <tr>\n",
       "      <th>12</th>\n",
       "      <td>2593.381928</td>\n",
       "      <td>13.0</td>\n",
       "      <td>1</td>\n",
       "      <td>6</td>\n",
       "      <td>0</td>\n",
       "      <td>199</td>\n",
       "      <td>277.0</td>\n",
       "      <td>ultra</td>\n",
       "    </tr>\n",
       "  </tbody>\n",
       "</table>\n",
       "</div>"
      ],
      "text/plain": [
       "                   distance  duration  rides_amount  minute_price  \\\n",
       "user_id month                                                       \n",
       "1       1       7027.511294      42.0             2             6   \n",
       "        4        754.159807       7.0             1             6   \n",
       "        8       6723.470560      46.0             2             6   \n",
       "        10      5809.911100      32.0             2             6   \n",
       "        11      7003.499363      56.0             3             6   \n",
       "        12      6751.629942      28.0             2             6   \n",
       "2       3      10187.723006      63.0             3             6   \n",
       "        4       6164.381824      40.0             2             6   \n",
       "        6       3255.338202      14.0             1             6   \n",
       "        7       6780.722964      48.0             2             6   \n",
       "        8        923.007439       7.0             1             6   \n",
       "        10      2824.636598      19.0             1             6   \n",
       "        12      3828.248580      12.0             1             6   \n",
       "3       1       3061.777147      13.0             1             6   \n",
       "        2       5421.152016      39.0             2             6   \n",
       "        4       2956.651632      21.0             1             6   \n",
       "        5       9064.026918      63.0             3             6   \n",
       "        7      10919.595403      67.0             3             6   \n",
       "        9       2891.012822      23.0             1             6   \n",
       "        12      2593.381928      13.0             1             6   \n",
       "\n",
       "               start_ride_price  subscription_fee  monthly_revenue  \\\n",
       "user_id month                                                        \n",
       "1       1                     0               199            451.0   \n",
       "        4                     0               199            241.0   \n",
       "        8                     0               199            475.0   \n",
       "        10                    0               199            391.0   \n",
       "        11                    0               199            535.0   \n",
       "        12                    0               199            367.0   \n",
       "2       3                     0               199            577.0   \n",
       "        4                     0               199            439.0   \n",
       "        6                     0               199            283.0   \n",
       "        7                     0               199            487.0   \n",
       "        8                     0               199            241.0   \n",
       "        10                    0               199            313.0   \n",
       "        12                    0               199            271.0   \n",
       "3       1                     0               199            277.0   \n",
       "        2                     0               199            433.0   \n",
       "        4                     0               199            325.0   \n",
       "        5                     0               199            577.0   \n",
       "        7                     0               199            601.0   \n",
       "        9                     0               199            337.0   \n",
       "        12                    0               199            277.0   \n",
       "\n",
       "              subscription_type  \n",
       "user_id month                    \n",
       "1       1                 ultra  \n",
       "        4                 ultra  \n",
       "        8                 ultra  \n",
       "        10                ultra  \n",
       "        11                ultra  \n",
       "        12                ultra  \n",
       "2       3                 ultra  \n",
       "        4                 ultra  \n",
       "        6                 ultra  \n",
       "        7                 ultra  \n",
       "        8                 ultra  \n",
       "        10                ultra  \n",
       "        12                ultra  \n",
       "3       1                 ultra  \n",
       "        2                 ultra  \n",
       "        4                 ultra  \n",
       "        5                 ultra  \n",
       "        7                 ultra  \n",
       "        9                 ultra  \n",
       "        12                ultra  "
      ]
     },
     "execution_count": 46,
     "metadata": {},
     "output_type": "execute_result"
    }
   ],
   "source": [
    "agg_data.head(20)"
   ]
  },
  {
   "cell_type": "markdown",
   "id": "2b78b056",
   "metadata": {},
   "source": [
    "#### Шаг 6. Проверка гипотез"
   ]
  },
  {
   "cell_type": "markdown",
   "id": "758ba7c8",
   "metadata": {},
   "source": [
    "##### Важно понять, тратят ли пользователи с подпиской больше времени на поездки?"
   ]
  },
  {
   "cell_type": "markdown",
   "id": "728d18d1",
   "metadata": {},
   "source": [
    "H0: Среднее время поездки подписчиков <= среднему времени поездки бесплатных пользователей.\n",
    "H1: Среднее время поездки подписчиков > среднего времени поездки бесплатных пользователей."
   ]
  },
  {
   "cell_type": "code",
   "execution_count": 47,
   "id": "ac28e05b",
   "metadata": {},
   "outputs": [
    {
     "data": {
      "text/plain": [
       "18.54198516280583"
      ]
     },
     "execution_count": 47,
     "metadata": {},
     "output_type": "execute_result"
    }
   ],
   "source": [
    "ultra_users_df['duration'].mean()"
   ]
  },
  {
   "cell_type": "code",
   "execution_count": 48,
   "id": "de2c00f1",
   "metadata": {},
   "outputs": [
    {
     "data": {
      "text/plain": [
       "17.39090929866399"
      ]
     },
     "execution_count": 48,
     "metadata": {},
     "output_type": "execute_result"
    }
   ],
   "source": [
    "free_users_df['duration'].mean()"
   ]
  },
  {
   "cell_type": "code",
   "execution_count": 49,
   "id": "312e5b4a",
   "metadata": {},
   "outputs": [
    {
     "data": {
      "text/plain": [
       "True"
      ]
     },
     "execution_count": 49,
     "metadata": {},
     "output_type": "execute_result"
    }
   ],
   "source": [
    "alpha = 0.05\n",
    "\n",
    "\n",
    "test = ttest_ind(ultra_users_df['duration'], free_users_df['duration'], alternative='greater')\n",
    "\n",
    "\n",
    "test.pvalue < alpha"
   ]
  },
  {
   "cell_type": "markdown",
   "id": "dc9c16ed",
   "metadata": {},
   "source": [
    "Отклоняем H0. Значит среднее время поездки подписчиков статистически значимо больше среднего времени поездки бесплатных пользователей."
   ]
  },
  {
   "cell_type": "markdown",
   "id": "153f08de",
   "metadata": {},
   "source": [
    "##### Расстояние одной поездки в 3130 метров — оптимальное с точки зрения износа самоката. Можно ли сказать, что среднее расстояние, которое проезжают пользователи с подпиской за одну поездку, не превышает 3130 метров? "
   ]
  },
  {
   "cell_type": "markdown",
   "id": "60a4b7c4",
   "metadata": {},
   "source": [
    "H0: Среднее расстояние поездки подписчиков <= 3130. H1: Среднее расстояние поездки подписчиков > 3130. "
   ]
  },
  {
   "cell_type": "code",
   "execution_count": 50,
   "id": "1719c411",
   "metadata": {},
   "outputs": [
    {
     "data": {
      "text/plain": [
       "False"
      ]
     },
     "execution_count": 50,
     "metadata": {},
     "output_type": "execute_result"
    }
   ],
   "source": [
    "alpha = 0.05\n",
    "\n",
    "optimal_distance = 3130\n",
    "\n",
    "test1 = ttest_1samp(ultra_users_df['distance'], optimal_distance, alternative='greater')\n",
    "\n",
    "test1.pvalue < alpha"
   ]
  },
  {
   "cell_type": "markdown",
   "id": "1b4e4afd",
   "metadata": {},
   "source": [
    "Мы НЕ отклоняем нулевую гипотезу. Значит подписчики действительно в среднем проезжают менее 3130 метров за поездку. "
   ]
  },
  {
   "cell_type": "markdown",
   "id": "23fac173",
   "metadata": {},
   "source": [
    "##### Гипотеза о том, будет ли помесячная выручка от пользователей с подпиской по месяцам выше, чем выручка от пользователей без подписки. "
   ]
  },
  {
   "cell_type": "markdown",
   "id": "05c7e6bb",
   "metadata": {},
   "source": [
    "H0: Средняя помесячная выручка от пользователей с подпиской не выше средней помесячной выручки от бесплатных пользователей.\n",
    "H1: Средняя помесячная выручка от пользователей с подпиской выше средней помесячной выручки от бесплатных пользователей."
   ]
  },
  {
   "cell_type": "code",
   "execution_count": 51,
   "id": "a9fd6cf5",
   "metadata": {},
   "outputs": [],
   "source": [
    "subscription_revenue = agg_data[agg_data['subscription_fee'] == 199]['monthly_revenue']\n",
    "free_revenue = agg_data[agg_data['subscription_fee'] == 0]['monthly_revenue']"
   ]
  },
  {
   "cell_type": "code",
   "execution_count": 52,
   "id": "54ae17ea",
   "metadata": {},
   "outputs": [
    {
     "data": {
      "text/plain": [
       "True"
      ]
     },
     "execution_count": 52,
     "metadata": {},
     "output_type": "execute_result"
    }
   ],
   "source": [
    "alpha = 0.05\n",
    "\n",
    "test2 = ttest_ind(subscription_revenue, free_revenue, alternative='greater')\n",
    "\n",
    "test2.pvalue < alpha"
   ]
  },
  {
   "cell_type": "markdown",
   "id": "cfe70217",
   "metadata": {},
   "source": [
    "Значит, мы отвергаем нулевую гипотезу. И все же средняя помесячная выручка от пользователей с подпиской выше средней помесячной выручки от бесплатных пользователей."
   ]
  },
  {
   "cell_type": "markdown",
   "id": "0c5e96f4",
   "metadata": {},
   "source": [
    "##### Техническая команда сервиса обновила сервера, с которыми взаимодействует мобильное приложение. Она надеется, что из-за этого количество обращений в техподдержку значимо снизилось. Некоторый файл содержит для каждого пользователя данные о количестве обращений до обновления и после него. Какой тест вам понадобился бы для проверки этой гипотезы?"
   ]
  },
  {
   "cell_type": "markdown",
   "id": "70e2371f",
   "metadata": {},
   "source": [
    "Однозначно будет использоваться scipy.stats.ttest_rel(), так как мы анализируем одну генеральную совокупность, с которой произошли некоторые изменения. "
   ]
  },
  {
   "cell_type": "markdown",
   "id": "63eee6c6",
   "metadata": {},
   "source": [
    "Calculate the t-test on TWO RELATED samples of scores, a and b.\n",
    "\n",
    "This is a test for the null hypothesis that two related or repeated samples have identical average (expected) values."
   ]
  },
  {
   "cell_type": "markdown",
   "id": "ab1f578e",
   "metadata": {},
   "source": [
    "https://docs.scipy.org/doc/scipy/reference/generated/scipy.stats.ttest_rel.html"
   ]
  },
  {
   "cell_type": "markdown",
   "id": "b123cc18",
   "metadata": {},
   "source": [
    "# ВЫВОДЫ"
   ]
  },
  {
   "cell_type": "markdown",
   "id": "4876a871",
   "metadata": {},
   "source": [
    "## Таким образом, предметом нашего исследования стали пользователи приложения аренды самокатов GoFast. Методами статистического и исследовательского анализов данных мы в первую очередь навели порядок в данных во избежании коллизий. Далее предметно рассмотрели базовую статистическую информацию о пользователях. Например, распределение городов и возрастов. Так же мы выясняли отличия двух групп пользователей, с подпиской и без, само собой так же проверяя статистически параметры о поездках и так далее. И самое важное, мы проверяли различные гипотезы об этих двух группах пользователей. В первую очередь, определяя разницу между доходом для бизнеса в зависимости от наличия подписки на сервис, а так же влияние на износ самокатов. \n",
    "## Да, подписчики сервиса действительно статистически выгодны для бизнеса. Хоть они и проводят \"за рулем\" больше времени, однако они все равно не наносят дополнительный вред транспорту, так как проезжают оптимальное для самоката расстояние. И, конечно же, как ни крути, но статистика показала, что выручка от подписчиков больше. Значит, пользователи с подпиской более выгодны. \n",
    "## По сути, дубликаты нам совершенно не страшны, только если это не абсолютно разные пользователи с одинаковыми УНИКАЛЬНЫМИ айдишниками. Я считаю, что важным признаком прогнозирования может стать например месяц года, так как самокат не очень то и зимний вид транспорта (если, конечно, речь идет про это). Так же было бы неплохо как-то помечать наличие популярного маршрута у пользователя (и, возможно, сам маршрут, либо просто популярные точки у пользователя), но, кажется, это уже по части МЛщиков. Пропуски тоже зависят от критерия, но, например, если есть пропуск в duration или distance, фича с популярными маршрутами может легко заделать эту дыру. Если в данных будет флаг, который отвечает за принадлежность поездки к частому маршруту. Вероятно, он не будет сильно отличаться от предыдущих таких же. "
   ]
  }
 ],
 "metadata": {
  "ExecuteTimeLog": [
   {
    "duration": 406,
    "start_time": "2023-09-19T08:14:26.957Z"
   },
   {
    "duration": 325,
    "start_time": "2023-09-19T08:15:53.338Z"
   },
   {
    "duration": 16,
    "start_time": "2023-09-19T08:16:00.920Z"
   },
   {
    "duration": 8,
    "start_time": "2023-09-19T08:16:20.226Z"
   },
   {
    "duration": 10,
    "start_time": "2023-09-19T08:16:21.737Z"
   },
   {
    "duration": 72,
    "start_time": "2023-09-19T08:17:09.725Z"
   },
   {
    "duration": 12,
    "start_time": "2023-09-19T08:17:14.157Z"
   },
   {
    "duration": 10,
    "start_time": "2023-09-19T08:17:16.259Z"
   },
   {
    "duration": 4,
    "start_time": "2023-09-19T08:17:51.740Z"
   },
   {
    "duration": 7,
    "start_time": "2023-09-19T08:18:06.980Z"
   },
   {
    "duration": 5,
    "start_time": "2023-09-19T08:18:10.094Z"
   },
   {
    "duration": 4,
    "start_time": "2023-09-19T08:18:14.411Z"
   },
   {
    "duration": 6,
    "start_time": "2023-09-19T08:23:27.904Z"
   },
   {
    "duration": 7,
    "start_time": "2023-09-19T08:23:34.993Z"
   },
   {
    "duration": 8,
    "start_time": "2023-09-19T08:23:39.427Z"
   },
   {
    "duration": 5,
    "start_time": "2023-09-19T08:23:47.725Z"
   },
   {
    "duration": 5,
    "start_time": "2023-09-19T08:25:01.203Z"
   },
   {
    "duration": 9,
    "start_time": "2023-09-19T08:25:06.787Z"
   },
   {
    "duration": 4,
    "start_time": "2023-09-19T08:25:18.272Z"
   },
   {
    "duration": 6,
    "start_time": "2023-09-19T08:25:59.482Z"
   },
   {
    "duration": 6,
    "start_time": "2023-09-19T08:26:02.737Z"
   },
   {
    "duration": 6,
    "start_time": "2023-09-19T08:26:05.041Z"
   },
   {
    "duration": 7,
    "start_time": "2023-09-19T08:26:38.893Z"
   },
   {
    "duration": 7,
    "start_time": "2023-09-19T08:27:06.994Z"
   },
   {
    "duration": 12,
    "start_time": "2023-09-19T08:27:14.430Z"
   },
   {
    "duration": 10,
    "start_time": "2023-09-19T08:27:22.717Z"
   },
   {
    "duration": 7,
    "start_time": "2023-09-19T08:27:25.390Z"
   },
   {
    "duration": 5,
    "start_time": "2023-09-19T08:27:35.496Z"
   },
   {
    "duration": 7,
    "start_time": "2023-09-19T09:04:00.536Z"
   },
   {
    "duration": 6,
    "start_time": "2023-09-19T09:06:22.870Z"
   },
   {
    "duration": 8,
    "start_time": "2023-09-19T09:06:23.466Z"
   },
   {
    "duration": 6,
    "start_time": "2023-09-19T09:06:51.273Z"
   },
   {
    "duration": 5,
    "start_time": "2023-09-19T09:09:11.134Z"
   },
   {
    "duration": 6,
    "start_time": "2023-09-19T09:09:11.714Z"
   },
   {
    "duration": 517,
    "start_time": "2023-09-19T09:15:52.340Z"
   },
   {
    "duration": 112,
    "start_time": "2023-09-19T09:16:11.567Z"
   },
   {
    "duration": 149,
    "start_time": "2023-09-19T09:16:25.002Z"
   },
   {
    "duration": 3,
    "start_time": "2023-09-19T09:17:33.809Z"
   },
   {
    "duration": 112,
    "start_time": "2023-09-19T09:17:42.687Z"
   },
   {
    "duration": 190,
    "start_time": "2023-09-19T09:17:59.943Z"
   },
   {
    "duration": 67,
    "start_time": "2023-09-19T09:21:07.864Z"
   },
   {
    "duration": 72,
    "start_time": "2023-09-19T09:21:25.891Z"
   },
   {
    "duration": 140,
    "start_time": "2023-09-19T09:24:34.543Z"
   },
   {
    "duration": 125,
    "start_time": "2023-09-19T09:24:39.804Z"
   },
   {
    "duration": 133,
    "start_time": "2023-09-19T09:24:43.509Z"
   },
   {
    "duration": 124,
    "start_time": "2023-09-19T09:24:48.625Z"
   },
   {
    "duration": 123,
    "start_time": "2023-09-19T09:24:51.688Z"
   },
   {
    "duration": 129,
    "start_time": "2023-09-19T09:24:57.330Z"
   },
   {
    "duration": 145,
    "start_time": "2023-09-19T09:25:43.001Z"
   },
   {
    "duration": 127,
    "start_time": "2023-09-19T09:25:46.878Z"
   },
   {
    "duration": 180,
    "start_time": "2023-09-19T09:25:50.638Z"
   },
   {
    "duration": 125,
    "start_time": "2023-09-19T09:25:52.764Z"
   },
   {
    "duration": 161,
    "start_time": "2023-09-19T09:25:56.190Z"
   },
   {
    "duration": 120,
    "start_time": "2023-09-19T09:28:11.805Z"
   },
   {
    "duration": 127,
    "start_time": "2023-09-19T09:28:17.077Z"
   },
   {
    "duration": 91,
    "start_time": "2023-09-19T09:28:25.676Z"
   },
   {
    "duration": 144,
    "start_time": "2023-09-19T09:28:28.129Z"
   },
   {
    "duration": 129,
    "start_time": "2023-09-19T09:29:20.178Z"
   },
   {
    "duration": 115,
    "start_time": "2023-09-19T09:29:23.229Z"
   },
   {
    "duration": 3,
    "start_time": "2023-09-19T10:08:19.182Z"
   },
   {
    "duration": 78,
    "start_time": "2023-09-19T10:08:19.187Z"
   },
   {
    "duration": 8,
    "start_time": "2023-09-19T10:08:19.267Z"
   },
   {
    "duration": 19,
    "start_time": "2023-09-19T10:08:19.276Z"
   },
   {
    "duration": 29,
    "start_time": "2023-09-19T10:08:19.297Z"
   },
   {
    "duration": 14,
    "start_time": "2023-09-19T10:08:19.327Z"
   },
   {
    "duration": 17,
    "start_time": "2023-09-19T10:08:19.342Z"
   },
   {
    "duration": 16,
    "start_time": "2023-09-19T10:08:19.360Z"
   },
   {
    "duration": 11,
    "start_time": "2023-09-19T10:08:19.378Z"
   },
   {
    "duration": 27,
    "start_time": "2023-09-19T10:08:19.390Z"
   },
   {
    "duration": 30,
    "start_time": "2023-09-19T10:08:19.418Z"
   },
   {
    "duration": 25,
    "start_time": "2023-09-19T10:08:19.450Z"
   },
   {
    "duration": 22,
    "start_time": "2023-09-19T10:08:19.476Z"
   },
   {
    "duration": 14,
    "start_time": "2023-09-19T10:08:19.501Z"
   },
   {
    "duration": 10,
    "start_time": "2023-09-19T10:08:19.516Z"
   },
   {
    "duration": 15,
    "start_time": "2023-09-19T10:08:19.528Z"
   },
   {
    "duration": 22,
    "start_time": "2023-09-19T10:08:19.544Z"
   },
   {
    "duration": 13,
    "start_time": "2023-09-19T10:08:19.567Z"
   },
   {
    "duration": 14,
    "start_time": "2023-09-19T10:08:19.581Z"
   },
   {
    "duration": 116,
    "start_time": "2023-09-19T10:08:19.597Z"
   },
   {
    "duration": 77,
    "start_time": "2023-09-19T10:08:19.715Z"
   },
   {
    "duration": 129,
    "start_time": "2023-09-19T10:08:19.794Z"
   },
   {
    "duration": 208,
    "start_time": "2023-09-19T10:08:19.924Z"
   },
   {
    "duration": 132,
    "start_time": "2023-09-19T10:08:20.134Z"
   },
   {
    "duration": 16,
    "start_time": "2023-09-19T10:08:20.267Z"
   },
   {
    "duration": 10,
    "start_time": "2023-09-19T10:08:20.285Z"
   },
   {
    "duration": 5,
    "start_time": "2023-09-19T10:10:09.864Z"
   },
   {
    "duration": 9,
    "start_time": "2023-09-19T10:10:29.383Z"
   },
   {
    "duration": 13,
    "start_time": "2023-09-19T10:10:33.898Z"
   },
   {
    "duration": 11,
    "start_time": "2023-09-19T10:10:40.970Z"
   },
   {
    "duration": 117,
    "start_time": "2023-09-19T10:13:19.882Z"
   },
   {
    "duration": 120,
    "start_time": "2023-09-19T10:13:34.486Z"
   },
   {
    "duration": 124,
    "start_time": "2023-09-19T10:14:32.247Z"
   },
   {
    "duration": 133,
    "start_time": "2023-09-19T10:14:33.667Z"
   },
   {
    "duration": 227,
    "start_time": "2023-09-19T10:20:20.249Z"
   },
   {
    "duration": 228,
    "start_time": "2023-09-19T10:20:23.642Z"
   },
   {
    "duration": 335,
    "start_time": "2023-09-19T10:20:27.340Z"
   },
   {
    "duration": 244,
    "start_time": "2023-09-19T10:20:29.826Z"
   },
   {
    "duration": 248,
    "start_time": "2023-09-19T10:20:34.616Z"
   },
   {
    "duration": 212,
    "start_time": "2023-09-19T10:20:38.014Z"
   },
   {
    "duration": 227,
    "start_time": "2023-09-19T10:20:40.998Z"
   },
   {
    "duration": 714,
    "start_time": "2023-09-19T11:56:24.115Z"
   },
   {
    "duration": 69,
    "start_time": "2023-09-19T11:56:24.831Z"
   },
   {
    "duration": 11,
    "start_time": "2023-09-19T11:56:24.902Z"
   },
   {
    "duration": 22,
    "start_time": "2023-09-19T11:56:24.914Z"
   },
   {
    "duration": 29,
    "start_time": "2023-09-19T11:56:24.937Z"
   },
   {
    "duration": 27,
    "start_time": "2023-09-19T11:56:24.968Z"
   },
   {
    "duration": 54,
    "start_time": "2023-09-19T11:56:24.996Z"
   },
   {
    "duration": 37,
    "start_time": "2023-09-19T11:56:25.052Z"
   },
   {
    "duration": 29,
    "start_time": "2023-09-19T11:56:25.090Z"
   },
   {
    "duration": 20,
    "start_time": "2023-09-19T11:56:25.122Z"
   },
   {
    "duration": 31,
    "start_time": "2023-09-19T11:56:25.143Z"
   },
   {
    "duration": 19,
    "start_time": "2023-09-19T11:56:25.176Z"
   },
   {
    "duration": 10,
    "start_time": "2023-09-19T11:56:25.196Z"
   },
   {
    "duration": 18,
    "start_time": "2023-09-19T11:56:25.208Z"
   },
   {
    "duration": 10,
    "start_time": "2023-09-19T11:56:25.228Z"
   },
   {
    "duration": 40,
    "start_time": "2023-09-19T11:56:25.240Z"
   },
   {
    "duration": 19,
    "start_time": "2023-09-19T11:56:25.282Z"
   },
   {
    "duration": 9,
    "start_time": "2023-09-19T11:56:25.302Z"
   },
   {
    "duration": 19,
    "start_time": "2023-09-19T11:56:25.313Z"
   },
   {
    "duration": 67,
    "start_time": "2023-09-19T11:56:25.334Z"
   },
   {
    "duration": 0,
    "start_time": "2023-09-19T11:56:25.403Z"
   },
   {
    "duration": 0,
    "start_time": "2023-09-19T11:56:25.404Z"
   },
   {
    "duration": 0,
    "start_time": "2023-09-19T11:56:25.406Z"
   },
   {
    "duration": 0,
    "start_time": "2023-09-19T11:56:25.406Z"
   },
   {
    "duration": 0,
    "start_time": "2023-09-19T11:56:25.408Z"
   },
   {
    "duration": 0,
    "start_time": "2023-09-19T11:56:25.409Z"
   },
   {
    "duration": 0,
    "start_time": "2023-09-19T11:56:25.410Z"
   },
   {
    "duration": 0,
    "start_time": "2023-09-19T11:56:25.411Z"
   },
   {
    "duration": 0,
    "start_time": "2023-09-19T11:56:25.411Z"
   },
   {
    "duration": 0,
    "start_time": "2023-09-19T11:56:25.412Z"
   },
   {
    "duration": 0,
    "start_time": "2023-09-19T11:56:25.413Z"
   },
   {
    "duration": 0,
    "start_time": "2023-09-19T11:56:25.414Z"
   },
   {
    "duration": 0,
    "start_time": "2023-09-19T11:56:25.415Z"
   },
   {
    "duration": 0,
    "start_time": "2023-09-19T11:56:25.416Z"
   },
   {
    "duration": 593,
    "start_time": "2023-09-19T11:56:44.576Z"
   },
   {
    "duration": 67,
    "start_time": "2023-09-19T11:56:45.171Z"
   },
   {
    "duration": 12,
    "start_time": "2023-09-19T11:56:45.240Z"
   },
   {
    "duration": 15,
    "start_time": "2023-09-19T11:56:45.253Z"
   },
   {
    "duration": 15,
    "start_time": "2023-09-19T11:56:45.270Z"
   },
   {
    "duration": 21,
    "start_time": "2023-09-19T11:56:45.286Z"
   },
   {
    "duration": 17,
    "start_time": "2023-09-19T11:56:45.309Z"
   },
   {
    "duration": 12,
    "start_time": "2023-09-19T11:56:45.327Z"
   },
   {
    "duration": 13,
    "start_time": "2023-09-19T11:56:45.341Z"
   },
   {
    "duration": 36,
    "start_time": "2023-09-19T11:56:45.355Z"
   },
   {
    "duration": 31,
    "start_time": "2023-09-19T11:56:45.393Z"
   },
   {
    "duration": 24,
    "start_time": "2023-09-19T11:56:45.426Z"
   },
   {
    "duration": 27,
    "start_time": "2023-09-19T11:56:45.452Z"
   },
   {
    "duration": 30,
    "start_time": "2023-09-19T11:56:45.483Z"
   },
   {
    "duration": 19,
    "start_time": "2023-09-19T11:56:45.514Z"
   },
   {
    "duration": 9,
    "start_time": "2023-09-19T11:56:45.535Z"
   },
   {
    "duration": 12,
    "start_time": "2023-09-19T11:56:45.546Z"
   },
   {
    "duration": 7,
    "start_time": "2023-09-19T11:56:45.559Z"
   },
   {
    "duration": 10,
    "start_time": "2023-09-19T11:56:45.567Z"
   },
   {
    "duration": 19,
    "start_time": "2023-09-19T11:56:45.579Z"
   },
   {
    "duration": 138,
    "start_time": "2023-09-19T11:56:45.599Z"
   },
   {
    "duration": 68,
    "start_time": "2023-09-19T11:56:45.738Z"
   },
   {
    "duration": 229,
    "start_time": "2023-09-19T11:56:45.808Z"
   },
   {
    "duration": 267,
    "start_time": "2023-09-19T11:56:46.039Z"
   },
   {
    "duration": 220,
    "start_time": "2023-09-19T11:56:46.308Z"
   },
   {
    "duration": 18,
    "start_time": "2023-09-19T11:56:46.530Z"
   },
   {
    "duration": 11,
    "start_time": "2023-09-19T11:56:46.549Z"
   },
   {
    "duration": 27,
    "start_time": "2023-09-19T11:56:46.562Z"
   },
   {
    "duration": 15,
    "start_time": "2023-09-19T11:56:46.590Z"
   },
   {
    "duration": 46,
    "start_time": "2023-09-19T11:56:46.607Z"
   },
   {
    "duration": 233,
    "start_time": "2023-09-19T11:56:46.655Z"
   },
   {
    "duration": 254,
    "start_time": "2023-09-19T11:56:46.890Z"
   },
   {
    "duration": 226,
    "start_time": "2023-09-19T11:56:47.146Z"
   },
   {
    "duration": 305,
    "start_time": "2023-09-19T11:56:47.374Z"
   },
   {
    "duration": 633,
    "start_time": "2023-09-19T11:57:34.738Z"
   },
   {
    "duration": 67,
    "start_time": "2023-09-19T11:57:35.373Z"
   },
   {
    "duration": 27,
    "start_time": "2023-09-19T11:57:35.442Z"
   },
   {
    "duration": 14,
    "start_time": "2023-09-19T11:57:35.471Z"
   },
   {
    "duration": 11,
    "start_time": "2023-09-19T11:57:35.486Z"
   },
   {
    "duration": 6,
    "start_time": "2023-09-19T11:57:35.498Z"
   },
   {
    "duration": 18,
    "start_time": "2023-09-19T11:57:35.505Z"
   },
   {
    "duration": 15,
    "start_time": "2023-09-19T11:57:35.524Z"
   },
   {
    "duration": 22,
    "start_time": "2023-09-19T11:57:35.540Z"
   },
   {
    "duration": 8,
    "start_time": "2023-09-19T11:57:35.564Z"
   },
   {
    "duration": 6,
    "start_time": "2023-09-19T11:57:35.573Z"
   },
   {
    "duration": 6,
    "start_time": "2023-09-19T11:57:35.580Z"
   },
   {
    "duration": 8,
    "start_time": "2023-09-19T11:57:35.588Z"
   },
   {
    "duration": 9,
    "start_time": "2023-09-19T11:57:35.597Z"
   },
   {
    "duration": 18,
    "start_time": "2023-09-19T11:57:35.607Z"
   },
   {
    "duration": 9,
    "start_time": "2023-09-19T11:57:35.626Z"
   },
   {
    "duration": 19,
    "start_time": "2023-09-19T11:57:35.637Z"
   },
   {
    "duration": 12,
    "start_time": "2023-09-19T11:57:35.658Z"
   },
   {
    "duration": 8,
    "start_time": "2023-09-19T11:57:35.671Z"
   },
   {
    "duration": 133,
    "start_time": "2023-09-19T11:57:35.680Z"
   },
   {
    "duration": 73,
    "start_time": "2023-09-19T11:57:35.814Z"
   },
   {
    "duration": 232,
    "start_time": "2023-09-19T11:57:35.888Z"
   },
   {
    "duration": 305,
    "start_time": "2023-09-19T11:57:36.122Z"
   },
   {
    "duration": 241,
    "start_time": "2023-09-19T11:57:36.429Z"
   },
   {
    "duration": 15,
    "start_time": "2023-09-19T11:57:36.672Z"
   },
   {
    "duration": 11,
    "start_time": "2023-09-19T11:57:36.689Z"
   },
   {
    "duration": 10,
    "start_time": "2023-09-19T11:57:36.701Z"
   },
   {
    "duration": 10,
    "start_time": "2023-09-19T11:57:36.713Z"
   },
   {
    "duration": 31,
    "start_time": "2023-09-19T11:57:36.725Z"
   },
   {
    "duration": 248,
    "start_time": "2023-09-19T11:57:36.757Z"
   },
   {
    "duration": 244,
    "start_time": "2023-09-19T11:57:37.007Z"
   },
   {
    "duration": 222,
    "start_time": "2023-09-19T11:57:37.252Z"
   },
   {
    "duration": 294,
    "start_time": "2023-09-19T11:57:37.475Z"
   },
   {
    "duration": 5,
    "start_time": "2023-09-19T11:58:25.375Z"
   },
   {
    "duration": 7,
    "start_time": "2023-09-19T11:58:54.490Z"
   },
   {
    "duration": 4,
    "start_time": "2023-09-19T11:59:06.237Z"
   },
   {
    "duration": 77,
    "start_time": "2023-09-19T12:02:47.445Z"
   },
   {
    "duration": 17,
    "start_time": "2023-09-19T12:03:13.964Z"
   },
   {
    "duration": 14,
    "start_time": "2023-09-19T12:03:47.021Z"
   },
   {
    "duration": 9,
    "start_time": "2023-09-19T12:03:48.143Z"
   },
   {
    "duration": 12,
    "start_time": "2023-09-19T12:03:59.282Z"
   },
   {
    "duration": 9,
    "start_time": "2023-09-19T12:03:59.751Z"
   },
   {
    "duration": 11,
    "start_time": "2023-09-19T12:04:09.249Z"
   },
   {
    "duration": 19,
    "start_time": "2023-09-19T12:04:29.107Z"
   },
   {
    "duration": 9,
    "start_time": "2023-09-19T12:04:47.282Z"
   },
   {
    "duration": 10,
    "start_time": "2023-09-19T12:04:47.890Z"
   },
   {
    "duration": 4,
    "start_time": "2023-09-19T12:04:56.647Z"
   },
   {
    "duration": 9,
    "start_time": "2023-09-19T12:04:57.084Z"
   },
   {
    "duration": 10,
    "start_time": "2023-09-19T12:04:57.592Z"
   },
   {
    "duration": 8,
    "start_time": "2023-09-19T12:05:11.786Z"
   },
   {
    "duration": 9,
    "start_time": "2023-09-19T12:05:12.240Z"
   },
   {
    "duration": 624,
    "start_time": "2023-09-19T12:05:32.501Z"
   },
   {
    "duration": 67,
    "start_time": "2023-09-19T12:05:33.127Z"
   },
   {
    "duration": 11,
    "start_time": "2023-09-19T12:05:33.196Z"
   },
   {
    "duration": 38,
    "start_time": "2023-09-19T12:05:33.208Z"
   },
   {
    "duration": 30,
    "start_time": "2023-09-19T12:05:33.249Z"
   },
   {
    "duration": 22,
    "start_time": "2023-09-19T12:05:33.281Z"
   },
   {
    "duration": 26,
    "start_time": "2023-09-19T12:05:33.304Z"
   },
   {
    "duration": 28,
    "start_time": "2023-09-19T12:05:33.331Z"
   },
   {
    "duration": 40,
    "start_time": "2023-09-19T12:05:33.360Z"
   },
   {
    "duration": 19,
    "start_time": "2023-09-19T12:05:33.402Z"
   },
   {
    "duration": 40,
    "start_time": "2023-09-19T12:05:33.422Z"
   },
   {
    "duration": 36,
    "start_time": "2023-09-19T12:05:33.464Z"
   },
   {
    "duration": 17,
    "start_time": "2023-09-19T12:05:33.501Z"
   },
   {
    "duration": 23,
    "start_time": "2023-09-19T12:05:33.521Z"
   },
   {
    "duration": 9,
    "start_time": "2023-09-19T12:05:33.546Z"
   },
   {
    "duration": 14,
    "start_time": "2023-09-19T12:05:33.557Z"
   },
   {
    "duration": 10,
    "start_time": "2023-09-19T12:05:33.572Z"
   },
   {
    "duration": 10,
    "start_time": "2023-09-19T12:05:33.583Z"
   },
   {
    "duration": 14,
    "start_time": "2023-09-19T12:05:33.595Z"
   },
   {
    "duration": 159,
    "start_time": "2023-09-19T12:05:33.610Z"
   },
   {
    "duration": 75,
    "start_time": "2023-09-19T12:05:33.771Z"
   },
   {
    "duration": 233,
    "start_time": "2023-09-19T12:05:33.847Z"
   },
   {
    "duration": 350,
    "start_time": "2023-09-19T12:05:34.082Z"
   },
   {
    "duration": 237,
    "start_time": "2023-09-19T12:05:34.434Z"
   },
   {
    "duration": 16,
    "start_time": "2023-09-19T12:05:34.673Z"
   },
   {
    "duration": 12,
    "start_time": "2023-09-19T12:05:34.690Z"
   },
   {
    "duration": 21,
    "start_time": "2023-09-19T12:05:34.704Z"
   },
   {
    "duration": 19,
    "start_time": "2023-09-19T12:05:34.727Z"
   },
   {
    "duration": 14,
    "start_time": "2023-09-19T12:05:34.748Z"
   },
   {
    "duration": 254,
    "start_time": "2023-09-19T12:05:34.764Z"
   },
   {
    "duration": 242,
    "start_time": "2023-09-19T12:05:35.020Z"
   },
   {
    "duration": 225,
    "start_time": "2023-09-19T12:05:35.263Z"
   },
   {
    "duration": 298,
    "start_time": "2023-09-19T12:05:35.489Z"
   },
   {
    "duration": 4,
    "start_time": "2023-09-19T12:05:35.789Z"
   },
   {
    "duration": 18,
    "start_time": "2023-09-19T12:05:35.794Z"
   },
   {
    "duration": 9,
    "start_time": "2023-09-19T12:05:35.814Z"
   },
   {
    "duration": 10,
    "start_time": "2023-09-19T12:06:17.589Z"
   },
   {
    "duration": 10,
    "start_time": "2023-09-19T12:06:17.927Z"
   },
   {
    "duration": 80,
    "start_time": "2023-09-19T12:06:25.748Z"
   },
   {
    "duration": 10,
    "start_time": "2023-09-19T12:06:32.113Z"
   },
   {
    "duration": 10,
    "start_time": "2023-09-19T12:06:32.784Z"
   },
   {
    "duration": 10,
    "start_time": "2023-09-19T12:07:18.316Z"
   },
   {
    "duration": 10,
    "start_time": "2023-09-19T12:07:18.792Z"
   },
   {
    "duration": 11,
    "start_time": "2023-09-19T12:07:26.996Z"
   },
   {
    "duration": 10,
    "start_time": "2023-09-19T12:07:27.440Z"
   },
   {
    "duration": 33,
    "start_time": "2023-09-19T12:17:22.352Z"
   },
   {
    "duration": 38,
    "start_time": "2023-09-19T12:17:31.535Z"
   },
   {
    "duration": 40,
    "start_time": "2023-09-19T12:20:26.769Z"
   },
   {
    "duration": 1587,
    "start_time": "2023-09-19T12:22:58.771Z"
   },
   {
    "duration": 618,
    "start_time": "2023-09-19T12:23:12.940Z"
   },
   {
    "duration": 66,
    "start_time": "2023-09-19T12:23:13.560Z"
   },
   {
    "duration": 11,
    "start_time": "2023-09-19T12:23:13.627Z"
   },
   {
    "duration": 7,
    "start_time": "2023-09-19T12:23:13.640Z"
   },
   {
    "duration": 9,
    "start_time": "2023-09-19T12:23:13.648Z"
   },
   {
    "duration": 8,
    "start_time": "2023-09-19T12:23:13.658Z"
   },
   {
    "duration": 5,
    "start_time": "2023-09-19T12:23:13.668Z"
   },
   {
    "duration": 8,
    "start_time": "2023-09-19T12:23:13.674Z"
   },
   {
    "duration": 8,
    "start_time": "2023-09-19T12:23:13.683Z"
   },
   {
    "duration": 7,
    "start_time": "2023-09-19T12:23:13.694Z"
   },
   {
    "duration": 6,
    "start_time": "2023-09-19T12:23:13.702Z"
   },
   {
    "duration": 6,
    "start_time": "2023-09-19T12:23:13.709Z"
   },
   {
    "duration": 7,
    "start_time": "2023-09-19T12:23:13.744Z"
   },
   {
    "duration": 34,
    "start_time": "2023-09-19T12:23:13.752Z"
   },
   {
    "duration": 14,
    "start_time": "2023-09-19T12:23:13.787Z"
   },
   {
    "duration": 7,
    "start_time": "2023-09-19T12:23:13.802Z"
   },
   {
    "duration": 6,
    "start_time": "2023-09-19T12:23:13.810Z"
   },
   {
    "duration": 9,
    "start_time": "2023-09-19T12:23:13.817Z"
   },
   {
    "duration": 11,
    "start_time": "2023-09-19T12:23:13.828Z"
   },
   {
    "duration": 121,
    "start_time": "2023-09-19T12:23:13.841Z"
   },
   {
    "duration": 90,
    "start_time": "2023-09-19T12:23:13.963Z"
   },
   {
    "duration": 292,
    "start_time": "2023-09-19T12:23:14.055Z"
   },
   {
    "duration": 273,
    "start_time": "2023-09-19T12:23:14.349Z"
   },
   {
    "duration": 217,
    "start_time": "2023-09-19T12:23:14.624Z"
   },
   {
    "duration": 15,
    "start_time": "2023-09-19T12:23:14.843Z"
   },
   {
    "duration": 11,
    "start_time": "2023-09-19T12:23:14.859Z"
   },
   {
    "duration": 10,
    "start_time": "2023-09-19T12:23:14.871Z"
   },
   {
    "duration": 10,
    "start_time": "2023-09-19T12:23:14.883Z"
   },
   {
    "duration": 11,
    "start_time": "2023-09-19T12:23:14.895Z"
   },
   {
    "duration": 253,
    "start_time": "2023-09-19T12:23:14.907Z"
   },
   {
    "duration": 208,
    "start_time": "2023-09-19T12:23:15.162Z"
   },
   {
    "duration": 209,
    "start_time": "2023-09-19T12:23:15.372Z"
   },
   {
    "duration": 281,
    "start_time": "2023-09-19T12:23:15.582Z"
   },
   {
    "duration": 4,
    "start_time": "2023-09-19T12:23:15.864Z"
   },
   {
    "duration": 14,
    "start_time": "2023-09-19T12:23:15.869Z"
   },
   {
    "duration": 10,
    "start_time": "2023-09-19T12:23:15.884Z"
   },
   {
    "duration": 1237,
    "start_time": "2023-09-19T12:23:15.895Z"
   },
   {
    "duration": 23,
    "start_time": "2023-09-19T12:24:42.906Z"
   },
   {
    "duration": 1189,
    "start_time": "2023-09-19T12:25:14.334Z"
   },
   {
    "duration": 13,
    "start_time": "2023-09-19T12:42:41.075Z"
   },
   {
    "duration": 1053,
    "start_time": "2023-09-19T12:44:40.818Z"
   },
   {
    "duration": 1161,
    "start_time": "2023-09-19T12:46:05.030Z"
   },
   {
    "duration": 1118,
    "start_time": "2023-09-19T12:46:53.510Z"
   },
   {
    "duration": 1132,
    "start_time": "2023-09-19T12:47:18.175Z"
   },
   {
    "duration": 9,
    "start_time": "2023-09-19T12:53:21.804Z"
   },
   {
    "duration": 39,
    "start_time": "2023-09-19T12:53:34.737Z"
   },
   {
    "duration": 854,
    "start_time": "2023-09-20T06:50:09.474Z"
   },
   {
    "duration": 203,
    "start_time": "2023-09-20T06:50:10.331Z"
   },
   {
    "duration": 12,
    "start_time": "2023-09-20T06:50:10.538Z"
   },
   {
    "duration": 41,
    "start_time": "2023-09-20T06:50:10.553Z"
   },
   {
    "duration": 20,
    "start_time": "2023-09-20T06:50:10.596Z"
   },
   {
    "duration": 29,
    "start_time": "2023-09-20T06:50:10.618Z"
   },
   {
    "duration": 46,
    "start_time": "2023-09-20T06:50:10.649Z"
   },
   {
    "duration": 20,
    "start_time": "2023-09-20T06:50:10.697Z"
   },
   {
    "duration": 26,
    "start_time": "2023-09-20T06:50:10.718Z"
   },
   {
    "duration": 25,
    "start_time": "2023-09-20T06:50:10.748Z"
   },
   {
    "duration": 22,
    "start_time": "2023-09-20T06:50:10.775Z"
   },
   {
    "duration": 26,
    "start_time": "2023-09-20T06:50:10.799Z"
   },
   {
    "duration": 21,
    "start_time": "2023-09-20T06:50:10.830Z"
   },
   {
    "duration": 26,
    "start_time": "2023-09-20T06:50:10.853Z"
   },
   {
    "duration": 21,
    "start_time": "2023-09-20T06:50:10.881Z"
   },
   {
    "duration": 17,
    "start_time": "2023-09-20T06:50:10.905Z"
   },
   {
    "duration": 31,
    "start_time": "2023-09-20T06:50:10.924Z"
   },
   {
    "duration": 35,
    "start_time": "2023-09-20T06:50:10.956Z"
   },
   {
    "duration": 46,
    "start_time": "2023-09-20T06:50:10.993Z"
   },
   {
    "duration": 163,
    "start_time": "2023-09-20T06:50:11.041Z"
   },
   {
    "duration": 86,
    "start_time": "2023-09-20T06:50:11.206Z"
   },
   {
    "duration": 267,
    "start_time": "2023-09-20T06:50:11.294Z"
   },
   {
    "duration": 319,
    "start_time": "2023-09-20T06:50:11.563Z"
   },
   {
    "duration": 263,
    "start_time": "2023-09-20T06:50:11.884Z"
   },
   {
    "duration": 16,
    "start_time": "2023-09-20T06:50:12.149Z"
   },
   {
    "duration": 22,
    "start_time": "2023-09-20T06:50:12.167Z"
   },
   {
    "duration": 57,
    "start_time": "2023-09-20T06:50:12.190Z"
   },
   {
    "duration": 28,
    "start_time": "2023-09-20T06:50:12.250Z"
   },
   {
    "duration": 35,
    "start_time": "2023-09-20T06:50:12.279Z"
   },
   {
    "duration": 273,
    "start_time": "2023-09-20T06:50:12.316Z"
   },
   {
    "duration": 273,
    "start_time": "2023-09-20T06:50:12.591Z"
   },
   {
    "duration": 273,
    "start_time": "2023-09-20T06:50:12.866Z"
   },
   {
    "duration": 343,
    "start_time": "2023-09-20T06:50:13.141Z"
   },
   {
    "duration": 4,
    "start_time": "2023-09-20T06:50:13.486Z"
   },
   {
    "duration": 46,
    "start_time": "2023-09-20T06:50:13.491Z"
   },
   {
    "duration": 23,
    "start_time": "2023-09-20T06:50:13.539Z"
   },
   {
    "duration": 53,
    "start_time": "2023-09-20T06:50:13.564Z"
   },
   {
    "duration": 77,
    "start_time": "2023-09-20T06:50:13.619Z"
   },
   {
    "duration": 972,
    "start_time": "2023-09-20T08:52:14.835Z"
   },
   {
    "duration": 287,
    "start_time": "2023-09-20T08:52:15.810Z"
   },
   {
    "duration": 14,
    "start_time": "2023-09-20T08:52:16.100Z"
   },
   {
    "duration": 30,
    "start_time": "2023-09-20T08:52:16.116Z"
   },
   {
    "duration": 12,
    "start_time": "2023-09-20T08:52:16.153Z"
   },
   {
    "duration": 5,
    "start_time": "2023-09-20T08:52:16.167Z"
   },
   {
    "duration": 22,
    "start_time": "2023-09-20T08:52:16.173Z"
   },
   {
    "duration": 35,
    "start_time": "2023-09-20T08:52:16.196Z"
   },
   {
    "duration": 51,
    "start_time": "2023-09-20T08:52:16.233Z"
   },
   {
    "duration": 28,
    "start_time": "2023-09-20T08:52:16.286Z"
   },
   {
    "duration": 29,
    "start_time": "2023-09-20T08:52:16.316Z"
   },
   {
    "duration": 29,
    "start_time": "2023-09-20T08:52:16.347Z"
   },
   {
    "duration": 27,
    "start_time": "2023-09-20T08:52:16.377Z"
   },
   {
    "duration": 71,
    "start_time": "2023-09-20T08:52:16.406Z"
   },
   {
    "duration": 77,
    "start_time": "2023-09-20T08:52:16.479Z"
   },
   {
    "duration": 18,
    "start_time": "2023-09-20T08:52:16.557Z"
   },
   {
    "duration": 65,
    "start_time": "2023-09-20T08:52:16.577Z"
   },
   {
    "duration": 19,
    "start_time": "2023-09-20T08:52:16.644Z"
   },
   {
    "duration": 26,
    "start_time": "2023-09-20T08:52:16.665Z"
   },
   {
    "duration": 192,
    "start_time": "2023-09-20T08:52:16.693Z"
   },
   {
    "duration": 111,
    "start_time": "2023-09-20T08:52:16.887Z"
   },
   {
    "duration": 277,
    "start_time": "2023-09-20T08:52:17.000Z"
   },
   {
    "duration": 378,
    "start_time": "2023-09-20T08:52:17.279Z"
   },
   {
    "duration": 298,
    "start_time": "2023-09-20T08:52:17.659Z"
   },
   {
    "duration": 17,
    "start_time": "2023-09-20T08:52:17.959Z"
   },
   {
    "duration": 13,
    "start_time": "2023-09-20T08:52:17.978Z"
   },
   {
    "duration": 34,
    "start_time": "2023-09-20T08:52:17.992Z"
   },
   {
    "duration": 19,
    "start_time": "2023-09-20T08:52:18.028Z"
   },
   {
    "duration": 38,
    "start_time": "2023-09-20T08:52:18.049Z"
   },
   {
    "duration": 332,
    "start_time": "2023-09-20T08:52:18.089Z"
   },
   {
    "duration": 289,
    "start_time": "2023-09-20T08:52:18.422Z"
   },
   {
    "duration": 306,
    "start_time": "2023-09-20T08:52:18.713Z"
   },
   {
    "duration": 421,
    "start_time": "2023-09-20T08:52:19.023Z"
   },
   {
    "duration": 5,
    "start_time": "2023-09-20T08:52:19.447Z"
   },
   {
    "duration": 56,
    "start_time": "2023-09-20T08:52:19.454Z"
   },
   {
    "duration": 40,
    "start_time": "2023-09-20T08:52:19.512Z"
   },
   {
    "duration": 87,
    "start_time": "2023-09-20T08:52:43.666Z"
   },
   {
    "duration": 43,
    "start_time": "2023-09-20T08:53:07.215Z"
   },
   {
    "duration": 15,
    "start_time": "2023-09-20T08:53:11.647Z"
   },
   {
    "duration": 3,
    "start_time": "2023-09-20T08:53:40.544Z"
   },
   {
    "duration": 457,
    "start_time": "2023-09-20T09:04:42.341Z"
   },
   {
    "duration": 5,
    "start_time": "2023-09-20T09:05:56.701Z"
   },
   {
    "duration": 11,
    "start_time": "2023-09-20T09:06:25.931Z"
   },
   {
    "duration": 7,
    "start_time": "2023-09-20T09:06:32.291Z"
   },
   {
    "duration": 6,
    "start_time": "2023-09-20T09:06:35.341Z"
   },
   {
    "duration": 11,
    "start_time": "2023-09-20T09:06:53.917Z"
   },
   {
    "duration": 6,
    "start_time": "2023-09-20T09:11:29.266Z"
   },
   {
    "duration": 7,
    "start_time": "2023-09-20T09:12:30.551Z"
   },
   {
    "duration": 6,
    "start_time": "2023-09-20T09:12:33.952Z"
   },
   {
    "duration": 6,
    "start_time": "2023-09-20T09:12:46.305Z"
   },
   {
    "duration": 6,
    "start_time": "2023-09-20T09:12:53.562Z"
   },
   {
    "duration": 7,
    "start_time": "2023-09-20T09:12:55.689Z"
   },
   {
    "duration": 6,
    "start_time": "2023-09-20T09:15:47.663Z"
   },
   {
    "duration": 7,
    "start_time": "2023-09-20T09:17:18.146Z"
   },
   {
    "duration": 6,
    "start_time": "2023-09-20T09:17:57.345Z"
   },
   {
    "duration": 5,
    "start_time": "2023-09-20T09:18:00.160Z"
   },
   {
    "duration": 14,
    "start_time": "2023-09-20T09:22:47.395Z"
   },
   {
    "duration": 22,
    "start_time": "2023-09-20T09:22:50.942Z"
   },
   {
    "duration": 6,
    "start_time": "2023-09-20T09:29:59.405Z"
   },
   {
    "duration": 8,
    "start_time": "2023-09-20T09:30:00.014Z"
   },
   {
    "duration": 6,
    "start_time": "2023-09-20T09:30:00.810Z"
   },
   {
    "duration": 45,
    "start_time": "2023-09-20T09:31:04.497Z"
   },
   {
    "duration": 7,
    "start_time": "2023-09-20T09:31:11.415Z"
   },
   {
    "duration": 14,
    "start_time": "2023-09-20T09:35:48.427Z"
   },
   {
    "duration": 6,
    "start_time": "2023-09-20T09:35:50.782Z"
   },
   {
    "duration": 1395,
    "start_time": "2023-09-20T15:16:57.466Z"
   },
   {
    "duration": 212,
    "start_time": "2023-09-20T15:16:58.863Z"
   },
   {
    "duration": 13,
    "start_time": "2023-09-20T15:16:59.076Z"
   },
   {
    "duration": 31,
    "start_time": "2023-09-20T15:16:59.091Z"
   },
   {
    "duration": 16,
    "start_time": "2023-09-20T15:16:59.124Z"
   },
   {
    "duration": 21,
    "start_time": "2023-09-20T15:16:59.142Z"
   },
   {
    "duration": 27,
    "start_time": "2023-09-20T15:16:59.164Z"
   },
   {
    "duration": 35,
    "start_time": "2023-09-20T15:16:59.193Z"
   },
   {
    "duration": 34,
    "start_time": "2023-09-20T15:16:59.230Z"
   },
   {
    "duration": 22,
    "start_time": "2023-09-20T15:16:59.265Z"
   },
   {
    "duration": 22,
    "start_time": "2023-09-20T15:16:59.288Z"
   },
   {
    "duration": 25,
    "start_time": "2023-09-20T15:16:59.312Z"
   },
   {
    "duration": 25,
    "start_time": "2023-09-20T15:16:59.338Z"
   },
   {
    "duration": 19,
    "start_time": "2023-09-20T15:16:59.366Z"
   },
   {
    "duration": 26,
    "start_time": "2023-09-20T15:16:59.387Z"
   },
   {
    "duration": 42,
    "start_time": "2023-09-20T15:16:59.415Z"
   },
   {
    "duration": 27,
    "start_time": "2023-09-20T15:16:59.459Z"
   },
   {
    "duration": 34,
    "start_time": "2023-09-20T15:16:59.487Z"
   },
   {
    "duration": 23,
    "start_time": "2023-09-20T15:16:59.523Z"
   },
   {
    "duration": 172,
    "start_time": "2023-09-20T15:16:59.548Z"
   },
   {
    "duration": 90,
    "start_time": "2023-09-20T15:16:59.722Z"
   },
   {
    "duration": 275,
    "start_time": "2023-09-20T15:16:59.813Z"
   },
   {
    "duration": 288,
    "start_time": "2023-09-20T15:17:00.089Z"
   },
   {
    "duration": 301,
    "start_time": "2023-09-20T15:17:00.379Z"
   },
   {
    "duration": 17,
    "start_time": "2023-09-20T15:17:00.682Z"
   },
   {
    "duration": 46,
    "start_time": "2023-09-20T15:17:00.701Z"
   },
   {
    "duration": 58,
    "start_time": "2023-09-20T15:17:00.749Z"
   },
   {
    "duration": 22,
    "start_time": "2023-09-20T15:17:00.809Z"
   },
   {
    "duration": 64,
    "start_time": "2023-09-20T15:17:00.833Z"
   },
   {
    "duration": 369,
    "start_time": "2023-09-20T15:17:00.899Z"
   },
   {
    "duration": 269,
    "start_time": "2023-09-20T15:17:01.270Z"
   },
   {
    "duration": 266,
    "start_time": "2023-09-20T15:17:01.540Z"
   },
   {
    "duration": 284,
    "start_time": "2023-09-20T15:17:01.808Z"
   },
   {
    "duration": 5,
    "start_time": "2023-09-20T15:17:02.094Z"
   },
   {
    "duration": 601,
    "start_time": "2023-09-20T15:17:02.110Z"
   },
   {
    "duration": 0,
    "start_time": "2023-09-20T15:17:02.712Z"
   },
   {
    "duration": 0,
    "start_time": "2023-09-20T15:17:02.713Z"
   },
   {
    "duration": 0,
    "start_time": "2023-09-20T15:17:02.714Z"
   },
   {
    "duration": 0,
    "start_time": "2023-09-20T15:17:02.715Z"
   },
   {
    "duration": 1,
    "start_time": "2023-09-20T15:17:02.716Z"
   },
   {
    "duration": 1293,
    "start_time": "2023-09-20T15:25:23.687Z"
   },
   {
    "duration": 72,
    "start_time": "2023-09-20T15:25:24.983Z"
   },
   {
    "duration": 13,
    "start_time": "2023-09-20T15:25:25.057Z"
   },
   {
    "duration": 19,
    "start_time": "2023-09-20T15:25:25.071Z"
   },
   {
    "duration": 14,
    "start_time": "2023-09-20T15:25:25.093Z"
   },
   {
    "duration": 27,
    "start_time": "2023-09-20T15:25:25.108Z"
   },
   {
    "duration": 29,
    "start_time": "2023-09-20T15:25:25.136Z"
   },
   {
    "duration": 41,
    "start_time": "2023-09-20T15:25:25.166Z"
   },
   {
    "duration": 27,
    "start_time": "2023-09-20T15:25:25.209Z"
   },
   {
    "duration": 13,
    "start_time": "2023-09-20T15:25:25.239Z"
   },
   {
    "duration": 11,
    "start_time": "2023-09-20T15:25:25.254Z"
   },
   {
    "duration": 14,
    "start_time": "2023-09-20T15:25:25.267Z"
   },
   {
    "duration": 10,
    "start_time": "2023-09-20T15:25:25.283Z"
   },
   {
    "duration": 13,
    "start_time": "2023-09-20T15:25:25.298Z"
   },
   {
    "duration": 19,
    "start_time": "2023-09-20T15:25:25.313Z"
   },
   {
    "duration": 9,
    "start_time": "2023-09-20T15:25:25.334Z"
   },
   {
    "duration": 24,
    "start_time": "2023-09-20T15:25:25.345Z"
   },
   {
    "duration": 29,
    "start_time": "2023-09-20T15:25:25.371Z"
   },
   {
    "duration": 19,
    "start_time": "2023-09-20T15:25:25.402Z"
   },
   {
    "duration": 177,
    "start_time": "2023-09-20T15:25:25.423Z"
   },
   {
    "duration": 86,
    "start_time": "2023-09-20T15:25:25.602Z"
   },
   {
    "duration": 271,
    "start_time": "2023-09-20T15:25:25.690Z"
   },
   {
    "duration": 287,
    "start_time": "2023-09-20T15:25:25.964Z"
   },
   {
    "duration": 282,
    "start_time": "2023-09-20T15:25:26.253Z"
   },
   {
    "duration": 18,
    "start_time": "2023-09-20T15:25:26.537Z"
   },
   {
    "duration": 32,
    "start_time": "2023-09-20T15:25:26.557Z"
   },
   {
    "duration": 28,
    "start_time": "2023-09-20T15:25:26.591Z"
   },
   {
    "duration": 21,
    "start_time": "2023-09-20T15:25:26.621Z"
   },
   {
    "duration": 34,
    "start_time": "2023-09-20T15:25:26.645Z"
   },
   {
    "duration": 398,
    "start_time": "2023-09-20T15:25:26.682Z"
   },
   {
    "duration": 281,
    "start_time": "2023-09-20T15:25:27.082Z"
   },
   {
    "duration": 268,
    "start_time": "2023-09-20T15:25:27.365Z"
   },
   {
    "duration": 303,
    "start_time": "2023-09-20T15:25:27.634Z"
   },
   {
    "duration": 5,
    "start_time": "2023-09-20T15:25:27.938Z"
   },
   {
    "duration": 125,
    "start_time": "2023-09-20T15:25:27.945Z"
   },
   {
    "duration": 0,
    "start_time": "2023-09-20T15:25:28.072Z"
   },
   {
    "duration": 0,
    "start_time": "2023-09-20T15:25:28.074Z"
   },
   {
    "duration": 0,
    "start_time": "2023-09-20T15:25:28.075Z"
   },
   {
    "duration": 0,
    "start_time": "2023-09-20T15:25:28.077Z"
   },
   {
    "duration": 0,
    "start_time": "2023-09-20T15:25:28.078Z"
   },
   {
    "duration": 50,
    "start_time": "2023-09-20T19:51:37.535Z"
   },
   {
    "duration": 1501,
    "start_time": "2023-09-20T19:51:41.792Z"
   },
   {
    "duration": 201,
    "start_time": "2023-09-20T19:51:43.295Z"
   },
   {
    "duration": 61,
    "start_time": "2023-09-20T19:51:43.638Z"
   },
   {
    "duration": 13,
    "start_time": "2023-09-20T19:51:47.594Z"
   },
   {
    "duration": 12,
    "start_time": "2023-09-20T19:51:57.698Z"
   },
   {
    "duration": 12,
    "start_time": "2023-09-20T19:52:04.544Z"
   },
   {
    "duration": 11,
    "start_time": "2023-09-20T19:52:11.261Z"
   },
   {
    "duration": 13,
    "start_time": "2023-09-20T19:57:02.571Z"
   },
   {
    "duration": 9,
    "start_time": "2023-09-20T19:57:03.178Z"
   },
   {
    "duration": 8,
    "start_time": "2023-09-20T19:57:03.645Z"
   },
   {
    "duration": 5,
    "start_time": "2023-09-20T19:57:05.666Z"
   },
   {
    "duration": 5,
    "start_time": "2023-09-20T19:57:06.142Z"
   },
   {
    "duration": 5,
    "start_time": "2023-09-20T19:57:06.647Z"
   },
   {
    "duration": 8,
    "start_time": "2023-09-20T19:57:10.943Z"
   },
   {
    "duration": 9,
    "start_time": "2023-09-20T19:57:11.339Z"
   },
   {
    "duration": 7,
    "start_time": "2023-09-20T19:57:12.535Z"
   },
   {
    "duration": 5,
    "start_time": "2023-09-20T19:57:37.614Z"
   },
   {
    "duration": 4,
    "start_time": "2023-09-20T19:57:46.954Z"
   },
   {
    "duration": 4,
    "start_time": "2023-09-20T19:57:55.373Z"
   },
   {
    "duration": 6,
    "start_time": "2023-09-20T19:58:41.640Z"
   },
   {
    "duration": 9,
    "start_time": "2023-09-20T19:58:46.098Z"
   },
   {
    "duration": 5,
    "start_time": "2023-09-20T19:58:46.940Z"
   },
   {
    "duration": 8,
    "start_time": "2023-09-20T19:58:57.659Z"
   },
   {
    "duration": 8,
    "start_time": "2023-09-20T19:58:58.326Z"
   },
   {
    "duration": 6,
    "start_time": "2023-09-20T19:58:58.756Z"
   },
   {
    "duration": 5,
    "start_time": "2023-09-20T19:59:00.351Z"
   },
   {
    "duration": 7,
    "start_time": "2023-09-20T19:59:01.288Z"
   },
   {
    "duration": 165,
    "start_time": "2023-09-20T20:01:49.298Z"
   },
   {
    "duration": 155,
    "start_time": "2023-09-20T20:01:59.462Z"
   },
   {
    "duration": 142,
    "start_time": "2023-09-20T20:02:04.330Z"
   },
   {
    "duration": 136,
    "start_time": "2023-09-20T20:02:33.161Z"
   },
   {
    "duration": 139,
    "start_time": "2023-09-20T20:02:36.094Z"
   },
   {
    "duration": 152,
    "start_time": "2023-09-20T20:02:48.308Z"
   },
   {
    "duration": 154,
    "start_time": "2023-09-20T20:03:49.361Z"
   },
   {
    "duration": 146,
    "start_time": "2023-09-20T20:04:18.866Z"
   },
   {
    "duration": 180,
    "start_time": "2023-09-20T20:04:29.682Z"
   },
   {
    "duration": 238,
    "start_time": "2023-09-20T20:05:18.371Z"
   },
   {
    "duration": 145,
    "start_time": "2023-09-20T20:05:22.864Z"
   },
   {
    "duration": 162,
    "start_time": "2023-09-20T20:05:34.809Z"
   },
   {
    "duration": 148,
    "start_time": "2023-09-20T20:05:54.265Z"
   },
   {
    "duration": 151,
    "start_time": "2023-09-20T20:06:02.703Z"
   },
   {
    "duration": 71,
    "start_time": "2023-09-20T20:07:42.226Z"
   },
   {
    "duration": 81,
    "start_time": "2023-09-20T20:07:50.711Z"
   },
   {
    "duration": 75,
    "start_time": "2023-09-20T20:07:55.642Z"
   },
   {
    "duration": 265,
    "start_time": "2023-09-20T20:08:16.827Z"
   },
   {
    "duration": 9,
    "start_time": "2023-09-20T20:08:26.833Z"
   },
   {
    "duration": 364,
    "start_time": "2023-09-20T20:08:38.045Z"
   },
   {
    "duration": 288,
    "start_time": "2023-09-20T20:08:44.916Z"
   },
   {
    "duration": 257,
    "start_time": "2023-09-20T20:08:48.616Z"
   },
   {
    "duration": 254,
    "start_time": "2023-09-20T20:11:56.033Z"
   },
   {
    "duration": 258,
    "start_time": "2023-09-20T20:12:15.643Z"
   },
   {
    "duration": 273,
    "start_time": "2023-09-20T20:12:42.906Z"
   },
   {
    "duration": 372,
    "start_time": "2023-09-20T20:13:21.530Z"
   },
   {
    "duration": 273,
    "start_time": "2023-09-20T20:13:31.126Z"
   },
   {
    "duration": 293,
    "start_time": "2023-09-20T20:13:45.123Z"
   },
   {
    "duration": 282,
    "start_time": "2023-09-20T20:14:16.592Z"
   },
   {
    "duration": 289,
    "start_time": "2023-09-20T20:14:30.037Z"
   },
   {
    "duration": 422,
    "start_time": "2023-09-20T20:14:37.822Z"
   },
   {
    "duration": 301,
    "start_time": "2023-09-20T20:15:03.376Z"
   },
   {
    "duration": 276,
    "start_time": "2023-09-20T20:15:13.501Z"
   },
   {
    "duration": 315,
    "start_time": "2023-09-20T20:15:17.739Z"
   },
   {
    "duration": 299,
    "start_time": "2023-09-20T20:16:43.426Z"
   },
   {
    "duration": 304,
    "start_time": "2023-09-20T20:16:59.546Z"
   },
   {
    "duration": 450,
    "start_time": "2023-09-20T20:17:12.719Z"
   },
   {
    "duration": 94,
    "start_time": "2023-09-20T20:17:36.705Z"
   },
   {
    "duration": 199,
    "start_time": "2023-09-20T20:18:12.351Z"
   },
   {
    "duration": 154,
    "start_time": "2023-09-20T20:18:30.791Z"
   },
   {
    "duration": 181,
    "start_time": "2023-09-20T20:18:37.290Z"
   },
   {
    "duration": 159,
    "start_time": "2023-09-20T20:18:54.667Z"
   },
   {
    "duration": 163,
    "start_time": "2023-09-20T20:19:16.632Z"
   },
   {
    "duration": 177,
    "start_time": "2023-09-20T20:19:38.984Z"
   },
   {
    "duration": 165,
    "start_time": "2023-09-20T20:19:53.676Z"
   },
   {
    "duration": 162,
    "start_time": "2023-09-20T20:20:06.786Z"
   },
   {
    "duration": 12,
    "start_time": "2023-09-20T20:20:50.147Z"
   },
   {
    "duration": 5,
    "start_time": "2023-09-20T20:20:52.439Z"
   },
   {
    "duration": 9,
    "start_time": "2023-09-20T20:20:55.021Z"
   },
   {
    "duration": 19,
    "start_time": "2023-09-20T20:21:04.077Z"
   },
   {
    "duration": 15,
    "start_time": "2023-09-20T20:21:04.459Z"
   },
   {
    "duration": 4,
    "start_time": "2023-09-20T20:21:05.060Z"
   },
   {
    "duration": 5,
    "start_time": "2023-09-20T20:21:06.145Z"
   },
   {
    "duration": 11,
    "start_time": "2023-09-20T20:21:07.581Z"
   },
   {
    "duration": 1210,
    "start_time": "2023-09-20T20:21:25.603Z"
   },
   {
    "duration": 73,
    "start_time": "2023-09-20T20:21:26.815Z"
   },
   {
    "duration": 16,
    "start_time": "2023-09-20T20:21:26.890Z"
   },
   {
    "duration": 24,
    "start_time": "2023-09-20T20:21:26.908Z"
   },
   {
    "duration": 16,
    "start_time": "2023-09-20T20:21:26.934Z"
   },
   {
    "duration": 19,
    "start_time": "2023-09-20T20:21:26.952Z"
   },
   {
    "duration": 11,
    "start_time": "2023-09-20T20:21:26.973Z"
   },
   {
    "duration": 24,
    "start_time": "2023-09-20T20:21:26.986Z"
   },
   {
    "duration": 8,
    "start_time": "2023-09-20T20:21:27.012Z"
   },
   {
    "duration": 9,
    "start_time": "2023-09-20T20:21:27.023Z"
   },
   {
    "duration": 9,
    "start_time": "2023-09-20T20:21:27.034Z"
   },
   {
    "duration": 19,
    "start_time": "2023-09-20T20:21:27.045Z"
   },
   {
    "duration": 18,
    "start_time": "2023-09-20T20:21:27.066Z"
   },
   {
    "duration": 26,
    "start_time": "2023-09-20T20:21:27.086Z"
   },
   {
    "duration": 17,
    "start_time": "2023-09-20T20:21:27.114Z"
   },
   {
    "duration": 14,
    "start_time": "2023-09-20T20:21:27.133Z"
   },
   {
    "duration": 14,
    "start_time": "2023-09-20T20:21:27.149Z"
   },
   {
    "duration": 17,
    "start_time": "2023-09-20T20:21:27.165Z"
   },
   {
    "duration": 12,
    "start_time": "2023-09-20T20:21:27.184Z"
   },
   {
    "duration": 14,
    "start_time": "2023-09-20T20:21:27.198Z"
   },
   {
    "duration": 9,
    "start_time": "2023-09-20T20:21:27.213Z"
   },
   {
    "duration": 7,
    "start_time": "2023-09-20T20:21:27.224Z"
   },
   {
    "duration": 12,
    "start_time": "2023-09-20T20:21:27.233Z"
   },
   {
    "duration": 10,
    "start_time": "2023-09-20T20:21:27.247Z"
   },
   {
    "duration": 214,
    "start_time": "2023-09-20T20:21:27.259Z"
   },
   {
    "duration": 108,
    "start_time": "2023-09-20T20:21:27.476Z"
   },
   {
    "duration": 314,
    "start_time": "2023-09-20T20:21:27.586Z"
   },
   {
    "duration": 11,
    "start_time": "2023-09-20T20:21:27.904Z"
   },
   {
    "duration": 318,
    "start_time": "2023-09-20T20:21:27.917Z"
   },
   {
    "duration": 326,
    "start_time": "2023-09-20T20:21:28.237Z"
   },
   {
    "duration": 20,
    "start_time": "2023-09-20T20:21:28.565Z"
   },
   {
    "duration": 26,
    "start_time": "2023-09-20T20:21:28.587Z"
   },
   {
    "duration": 18,
    "start_time": "2023-09-20T20:21:28.615Z"
   },
   {
    "duration": 7,
    "start_time": "2023-09-20T20:21:28.634Z"
   },
   {
    "duration": 114,
    "start_time": "2023-09-20T20:21:28.642Z"
   },
   {
    "duration": 0,
    "start_time": "2023-09-20T20:21:28.757Z"
   },
   {
    "duration": 0,
    "start_time": "2023-09-20T20:21:28.759Z"
   },
   {
    "duration": 0,
    "start_time": "2023-09-20T20:21:28.760Z"
   },
   {
    "duration": 0,
    "start_time": "2023-09-20T20:21:28.761Z"
   },
   {
    "duration": 0,
    "start_time": "2023-09-20T20:21:28.762Z"
   },
   {
    "duration": 0,
    "start_time": "2023-09-20T20:21:28.763Z"
   },
   {
    "duration": 0,
    "start_time": "2023-09-20T20:21:28.764Z"
   },
   {
    "duration": 0,
    "start_time": "2023-09-20T20:21:28.765Z"
   },
   {
    "duration": 0,
    "start_time": "2023-09-20T20:21:28.766Z"
   },
   {
    "duration": 0,
    "start_time": "2023-09-20T20:21:28.767Z"
   },
   {
    "duration": 0,
    "start_time": "2023-09-20T20:21:28.768Z"
   },
   {
    "duration": 0,
    "start_time": "2023-09-20T20:21:28.769Z"
   },
   {
    "duration": 0,
    "start_time": "2023-09-20T20:21:28.770Z"
   },
   {
    "duration": 0,
    "start_time": "2023-09-20T20:21:28.771Z"
   },
   {
    "duration": 5,
    "start_time": "2023-09-20T20:21:44.582Z"
   },
   {
    "duration": 4,
    "start_time": "2023-09-20T20:22:01.185Z"
   },
   {
    "duration": 9,
    "start_time": "2023-09-20T20:22:48.836Z"
   },
   {
    "duration": 5,
    "start_time": "2023-09-20T20:22:50.718Z"
   },
   {
    "duration": 4,
    "start_time": "2023-09-20T20:22:53.278Z"
   },
   {
    "duration": 5,
    "start_time": "2023-09-20T20:22:56.240Z"
   },
   {
    "duration": 12,
    "start_time": "2023-09-20T20:24:33.606Z"
   },
   {
    "duration": 4,
    "start_time": "2023-09-20T20:24:34.559Z"
   },
   {
    "duration": 4,
    "start_time": "2023-09-20T20:24:34.791Z"
   },
   {
    "duration": 3,
    "start_time": "2023-09-20T20:24:34.917Z"
   },
   {
    "duration": 12,
    "start_time": "2023-09-20T20:24:38.140Z"
   },
   {
    "duration": 13,
    "start_time": "2023-09-20T20:24:39.359Z"
   },
   {
    "duration": 14,
    "start_time": "2023-09-20T20:24:40.377Z"
   },
   {
    "duration": 365,
    "start_time": "2023-09-20T20:24:56.223Z"
   },
   {
    "duration": 261,
    "start_time": "2023-09-20T20:24:57.489Z"
   },
   {
    "duration": 248,
    "start_time": "2023-09-20T20:24:59.761Z"
   },
   {
    "duration": 259,
    "start_time": "2023-09-20T20:25:00.116Z"
   },
   {
    "duration": 294,
    "start_time": "2023-09-20T20:25:29.958Z"
   },
   {
    "duration": 280,
    "start_time": "2023-09-20T20:25:36.397Z"
   },
   {
    "duration": 387,
    "start_time": "2023-09-20T20:25:54.697Z"
   },
   {
    "duration": 270,
    "start_time": "2023-09-20T20:25:59.485Z"
   },
   {
    "duration": 290,
    "start_time": "2023-09-20T20:26:14.500Z"
   },
   {
    "duration": 211,
    "start_time": "2023-09-20T20:26:52.506Z"
   },
   {
    "duration": 170,
    "start_time": "2023-09-20T20:26:59.594Z"
   },
   {
    "duration": 160,
    "start_time": "2023-09-20T20:27:19.076Z"
   },
   {
    "duration": 272,
    "start_time": "2023-09-20T20:28:20.775Z"
   },
   {
    "duration": 420,
    "start_time": "2023-09-20T20:28:27.593Z"
   },
   {
    "duration": 293,
    "start_time": "2023-09-20T20:28:40.402Z"
   },
   {
    "duration": 288,
    "start_time": "2023-09-20T20:28:47.452Z"
   },
   {
    "duration": 287,
    "start_time": "2023-09-20T20:29:16.342Z"
   },
   {
    "duration": 289,
    "start_time": "2023-09-20T20:30:13.810Z"
   },
   {
    "duration": 459,
    "start_time": "2023-09-20T20:30:15.415Z"
   },
   {
    "duration": 285,
    "start_time": "2023-09-20T20:31:09.070Z"
   },
   {
    "duration": 290,
    "start_time": "2023-09-20T20:31:11.941Z"
   },
   {
    "duration": 285,
    "start_time": "2023-09-20T20:31:26.239Z"
   },
   {
    "duration": 321,
    "start_time": "2023-09-20T20:31:27.572Z"
   },
   {
    "duration": 4,
    "start_time": "2023-09-20T20:31:48.353Z"
   },
   {
    "duration": 10,
    "start_time": "2023-09-20T20:31:49.191Z"
   },
   {
    "duration": 11,
    "start_time": "2023-09-20T20:32:01.364Z"
   },
   {
    "duration": 1136,
    "start_time": "2023-09-20T20:32:18.164Z"
   },
   {
    "duration": 74,
    "start_time": "2023-09-20T20:32:19.303Z"
   },
   {
    "duration": 13,
    "start_time": "2023-09-20T20:32:19.379Z"
   },
   {
    "duration": 17,
    "start_time": "2023-09-20T20:32:19.394Z"
   },
   {
    "duration": 12,
    "start_time": "2023-09-20T20:32:19.414Z"
   },
   {
    "duration": 17,
    "start_time": "2023-09-20T20:32:19.427Z"
   },
   {
    "duration": 9,
    "start_time": "2023-09-20T20:32:19.446Z"
   },
   {
    "duration": 17,
    "start_time": "2023-09-20T20:32:19.457Z"
   },
   {
    "duration": 12,
    "start_time": "2023-09-20T20:32:19.475Z"
   },
   {
    "duration": 22,
    "start_time": "2023-09-20T20:32:19.488Z"
   },
   {
    "duration": 20,
    "start_time": "2023-09-20T20:32:19.512Z"
   },
   {
    "duration": 11,
    "start_time": "2023-09-20T20:32:19.533Z"
   },
   {
    "duration": 11,
    "start_time": "2023-09-20T20:32:19.546Z"
   },
   {
    "duration": 11,
    "start_time": "2023-09-20T20:32:19.560Z"
   },
   {
    "duration": 12,
    "start_time": "2023-09-20T20:32:19.573Z"
   },
   {
    "duration": 11,
    "start_time": "2023-09-20T20:32:19.587Z"
   },
   {
    "duration": 17,
    "start_time": "2023-09-20T20:32:19.600Z"
   },
   {
    "duration": 19,
    "start_time": "2023-09-20T20:32:19.622Z"
   },
   {
    "duration": 11,
    "start_time": "2023-09-20T20:32:19.643Z"
   },
   {
    "duration": 9,
    "start_time": "2023-09-20T20:32:19.657Z"
   },
   {
    "duration": 8,
    "start_time": "2023-09-20T20:32:19.667Z"
   },
   {
    "duration": 6,
    "start_time": "2023-09-20T20:32:19.676Z"
   },
   {
    "duration": 28,
    "start_time": "2023-09-20T20:32:19.683Z"
   },
   {
    "duration": 7,
    "start_time": "2023-09-20T20:32:19.713Z"
   },
   {
    "duration": 189,
    "start_time": "2023-09-20T20:32:19.722Z"
   },
   {
    "duration": 102,
    "start_time": "2023-09-20T20:32:19.913Z"
   },
   {
    "duration": 297,
    "start_time": "2023-09-20T20:32:20.017Z"
   },
   {
    "duration": 9,
    "start_time": "2023-09-20T20:32:20.315Z"
   },
   {
    "duration": 320,
    "start_time": "2023-09-20T20:32:20.326Z"
   },
   {
    "duration": 305,
    "start_time": "2023-09-20T20:32:20.648Z"
   },
   {
    "duration": 16,
    "start_time": "2023-09-20T20:32:20.955Z"
   },
   {
    "duration": 25,
    "start_time": "2023-09-20T20:32:20.973Z"
   },
   {
    "duration": 39,
    "start_time": "2023-09-20T20:32:20.999Z"
   },
   {
    "duration": 19,
    "start_time": "2023-09-20T20:32:21.040Z"
   },
   {
    "duration": 13,
    "start_time": "2023-09-20T20:32:21.060Z"
   },
   {
    "duration": 13,
    "start_time": "2023-09-20T20:32:21.074Z"
   },
   {
    "duration": 29,
    "start_time": "2023-09-20T20:32:21.089Z"
   },
   {
    "duration": 27,
    "start_time": "2023-09-20T20:32:21.119Z"
   },
   {
    "duration": 384,
    "start_time": "2023-09-20T20:32:21.147Z"
   },
   {
    "duration": 293,
    "start_time": "2023-09-20T20:32:21.533Z"
   },
   {
    "duration": 298,
    "start_time": "2023-09-20T20:32:21.831Z"
   },
   {
    "duration": 331,
    "start_time": "2023-09-20T20:32:22.131Z"
   },
   {
    "duration": 4,
    "start_time": "2023-09-20T20:32:22.465Z"
   },
   {
    "duration": 148,
    "start_time": "2023-09-20T20:32:22.471Z"
   },
   {
    "duration": 0,
    "start_time": "2023-09-20T20:32:22.621Z"
   },
   {
    "duration": 0,
    "start_time": "2023-09-20T20:32:22.623Z"
   },
   {
    "duration": 0,
    "start_time": "2023-09-20T20:32:22.625Z"
   },
   {
    "duration": 0,
    "start_time": "2023-09-20T20:32:22.626Z"
   },
   {
    "duration": 0,
    "start_time": "2023-09-20T20:32:22.627Z"
   },
   {
    "duration": 32,
    "start_time": "2023-09-20T20:33:08.287Z"
   },
   {
    "duration": 39,
    "start_time": "2023-09-20T20:33:14.784Z"
   },
   {
    "duration": 19,
    "start_time": "2023-09-20T20:33:35.170Z"
   },
   {
    "duration": 15,
    "start_time": "2023-09-20T20:33:37.325Z"
   },
   {
    "duration": 7,
    "start_time": "2023-09-20T20:33:44.146Z"
   },
   {
    "duration": 6,
    "start_time": "2023-09-20T20:33:44.893Z"
   },
   {
    "duration": 7,
    "start_time": "2023-09-20T20:33:46.329Z"
   },
   {
    "duration": 7,
    "start_time": "2023-09-20T20:33:46.471Z"
   },
   {
    "duration": 16,
    "start_time": "2023-09-20T20:34:38.385Z"
   },
   {
    "duration": 6,
    "start_time": "2023-09-20T20:34:51.701Z"
   },
   {
    "duration": 6,
    "start_time": "2023-09-20T20:34:52.248Z"
   },
   {
    "duration": 7,
    "start_time": "2023-09-20T20:34:52.761Z"
   },
   {
    "duration": 7,
    "start_time": "2023-09-20T20:34:52.871Z"
   },
   {
    "duration": 1139,
    "start_time": "2023-09-20T20:35:00.860Z"
   },
   {
    "duration": 74,
    "start_time": "2023-09-20T20:35:02.001Z"
   },
   {
    "duration": 15,
    "start_time": "2023-09-20T20:35:02.077Z"
   },
   {
    "duration": 75,
    "start_time": "2023-09-20T20:35:02.094Z"
   },
   {
    "duration": 50,
    "start_time": "2023-09-20T20:35:02.171Z"
   },
   {
    "duration": 39,
    "start_time": "2023-09-20T20:35:02.223Z"
   },
   {
    "duration": 47,
    "start_time": "2023-09-20T20:35:02.264Z"
   },
   {
    "duration": 55,
    "start_time": "2023-09-20T20:35:02.313Z"
   },
   {
    "duration": 68,
    "start_time": "2023-09-20T20:35:02.370Z"
   },
   {
    "duration": 72,
    "start_time": "2023-09-20T20:35:02.442Z"
   },
   {
    "duration": 44,
    "start_time": "2023-09-20T20:35:02.516Z"
   },
   {
    "duration": 52,
    "start_time": "2023-09-20T20:35:02.563Z"
   },
   {
    "duration": 27,
    "start_time": "2023-09-20T20:35:02.617Z"
   },
   {
    "duration": 15,
    "start_time": "2023-09-20T20:35:02.646Z"
   },
   {
    "duration": 9,
    "start_time": "2023-09-20T20:35:02.663Z"
   },
   {
    "duration": 12,
    "start_time": "2023-09-20T20:35:02.674Z"
   },
   {
    "duration": 20,
    "start_time": "2023-09-20T20:35:02.688Z"
   },
   {
    "duration": 21,
    "start_time": "2023-09-20T20:35:02.711Z"
   },
   {
    "duration": 14,
    "start_time": "2023-09-20T20:35:02.735Z"
   },
   {
    "duration": 9,
    "start_time": "2023-09-20T20:35:02.752Z"
   },
   {
    "duration": 8,
    "start_time": "2023-09-20T20:35:02.763Z"
   },
   {
    "duration": 12,
    "start_time": "2023-09-20T20:35:02.773Z"
   },
   {
    "duration": 24,
    "start_time": "2023-09-20T20:35:02.787Z"
   },
   {
    "duration": 19,
    "start_time": "2023-09-20T20:35:02.813Z"
   },
   {
    "duration": 203,
    "start_time": "2023-09-20T20:35:02.834Z"
   },
   {
    "duration": 101,
    "start_time": "2023-09-20T20:35:03.038Z"
   },
   {
    "duration": 306,
    "start_time": "2023-09-20T20:35:03.142Z"
   },
   {
    "duration": 8,
    "start_time": "2023-09-20T20:35:03.452Z"
   },
   {
    "duration": 314,
    "start_time": "2023-09-20T20:35:03.462Z"
   },
   {
    "duration": 350,
    "start_time": "2023-09-20T20:35:03.778Z"
   },
   {
    "duration": 17,
    "start_time": "2023-09-20T20:35:04.130Z"
   },
   {
    "duration": 15,
    "start_time": "2023-09-20T20:35:04.149Z"
   },
   {
    "duration": 29,
    "start_time": "2023-09-20T20:35:04.166Z"
   },
   {
    "duration": 14,
    "start_time": "2023-09-20T20:35:04.197Z"
   },
   {
    "duration": 7,
    "start_time": "2023-09-20T20:35:04.213Z"
   },
   {
    "duration": 25,
    "start_time": "2023-09-20T20:35:04.222Z"
   },
   {
    "duration": 18,
    "start_time": "2023-09-20T20:35:04.249Z"
   },
   {
    "duration": 19,
    "start_time": "2023-09-20T20:35:04.269Z"
   },
   {
    "duration": 390,
    "start_time": "2023-09-20T20:35:04.290Z"
   },
   {
    "duration": 315,
    "start_time": "2023-09-20T20:35:04.683Z"
   },
   {
    "duration": 333,
    "start_time": "2023-09-20T20:35:05.000Z"
   },
   {
    "duration": 347,
    "start_time": "2023-09-20T20:35:05.335Z"
   },
   {
    "duration": 5,
    "start_time": "2023-09-20T20:35:05.683Z"
   },
   {
    "duration": 31,
    "start_time": "2023-09-20T20:35:05.690Z"
   },
   {
    "duration": 18,
    "start_time": "2023-09-20T20:35:05.723Z"
   },
   {
    "duration": 25,
    "start_time": "2023-09-20T20:35:05.743Z"
   },
   {
    "duration": 37,
    "start_time": "2023-09-20T20:35:05.770Z"
   },
   {
    "duration": 28,
    "start_time": "2023-09-20T20:35:05.810Z"
   },
   {
    "duration": 20,
    "start_time": "2023-09-20T20:35:05.840Z"
   },
   {
    "duration": 1213,
    "start_time": "2023-09-21T15:36:04.653Z"
   },
   {
    "duration": 93,
    "start_time": "2023-09-21T15:36:05.874Z"
   },
   {
    "duration": 15,
    "start_time": "2023-09-21T15:36:05.969Z"
   },
   {
    "duration": 38,
    "start_time": "2023-09-21T15:36:05.986Z"
   },
   {
    "duration": 29,
    "start_time": "2023-09-21T15:36:06.026Z"
   },
   {
    "duration": 48,
    "start_time": "2023-09-21T15:36:06.059Z"
   },
   {
    "duration": 26,
    "start_time": "2023-09-21T15:36:06.109Z"
   },
   {
    "duration": 40,
    "start_time": "2023-09-21T15:36:06.137Z"
   },
   {
    "duration": 14,
    "start_time": "2023-09-21T15:36:06.179Z"
   },
   {
    "duration": 20,
    "start_time": "2023-09-21T15:36:06.195Z"
   },
   {
    "duration": 18,
    "start_time": "2023-09-21T15:36:06.216Z"
   },
   {
    "duration": 28,
    "start_time": "2023-09-21T15:36:06.236Z"
   },
   {
    "duration": 21,
    "start_time": "2023-09-21T15:36:06.281Z"
   },
   {
    "duration": 10,
    "start_time": "2023-09-21T15:36:06.306Z"
   },
   {
    "duration": 15,
    "start_time": "2023-09-21T15:36:06.319Z"
   },
   {
    "duration": 7,
    "start_time": "2023-09-21T15:36:06.336Z"
   },
   {
    "duration": 6,
    "start_time": "2023-09-21T15:36:06.345Z"
   },
   {
    "duration": 23,
    "start_time": "2023-09-21T15:36:06.356Z"
   },
   {
    "duration": 26,
    "start_time": "2023-09-21T15:36:06.381Z"
   },
   {
    "duration": 26,
    "start_time": "2023-09-21T15:36:06.409Z"
   },
   {
    "duration": 33,
    "start_time": "2023-09-21T15:36:06.437Z"
   },
   {
    "duration": 7,
    "start_time": "2023-09-21T15:36:06.472Z"
   },
   {
    "duration": 19,
    "start_time": "2023-09-21T15:36:06.481Z"
   },
   {
    "duration": 15,
    "start_time": "2023-09-21T15:36:06.501Z"
   },
   {
    "duration": 187,
    "start_time": "2023-09-21T15:36:06.518Z"
   },
   {
    "duration": 118,
    "start_time": "2023-09-21T15:36:06.706Z"
   },
   {
    "duration": 344,
    "start_time": "2023-09-21T15:36:06.826Z"
   },
   {
    "duration": 9,
    "start_time": "2023-09-21T15:36:07.173Z"
   },
   {
    "duration": 330,
    "start_time": "2023-09-21T15:36:07.184Z"
   },
   {
    "duration": 333,
    "start_time": "2023-09-21T15:36:07.516Z"
   },
   {
    "duration": 27,
    "start_time": "2023-09-21T15:36:07.855Z"
   },
   {
    "duration": 13,
    "start_time": "2023-09-21T15:36:07.884Z"
   },
   {
    "duration": 10,
    "start_time": "2023-09-21T15:36:07.900Z"
   },
   {
    "duration": 7,
    "start_time": "2023-09-21T15:36:07.912Z"
   },
   {
    "duration": 6,
    "start_time": "2023-09-21T15:36:07.921Z"
   },
   {
    "duration": 54,
    "start_time": "2023-09-21T15:36:07.929Z"
   },
   {
    "duration": 21,
    "start_time": "2023-09-21T15:36:07.986Z"
   },
   {
    "duration": 27,
    "start_time": "2023-09-21T15:36:08.009Z"
   },
   {
    "duration": 483,
    "start_time": "2023-09-21T15:36:08.038Z"
   },
   {
    "duration": 347,
    "start_time": "2023-09-21T15:36:08.523Z"
   },
   {
    "duration": 407,
    "start_time": "2023-09-21T15:36:08.875Z"
   },
   {
    "duration": 323,
    "start_time": "2023-09-21T15:36:09.284Z"
   },
   {
    "duration": 4,
    "start_time": "2023-09-21T15:36:09.609Z"
   },
   {
    "duration": 49,
    "start_time": "2023-09-21T15:36:09.616Z"
   },
   {
    "duration": 21,
    "start_time": "2023-09-21T15:36:09.671Z"
   },
   {
    "duration": 28,
    "start_time": "2023-09-21T15:36:09.694Z"
   },
   {
    "duration": 23,
    "start_time": "2023-09-21T15:36:09.725Z"
   },
   {
    "duration": 16,
    "start_time": "2023-09-21T15:36:09.749Z"
   },
   {
    "duration": 27,
    "start_time": "2023-09-21T15:36:09.766Z"
   },
   {
    "duration": 114,
    "start_time": "2023-09-21T15:37:53.120Z"
   },
   {
    "duration": 6,
    "start_time": "2023-09-21T15:38:05.791Z"
   },
   {
    "duration": 1379,
    "start_time": "2023-09-21T15:45:07.747Z"
   },
   {
    "duration": 93,
    "start_time": "2023-09-21T15:45:09.129Z"
   },
   {
    "duration": 15,
    "start_time": "2023-09-21T15:45:09.225Z"
   },
   {
    "duration": 48,
    "start_time": "2023-09-21T15:45:09.243Z"
   },
   {
    "duration": 54,
    "start_time": "2023-09-21T15:45:09.293Z"
   },
   {
    "duration": 33,
    "start_time": "2023-09-21T15:45:09.349Z"
   },
   {
    "duration": 53,
    "start_time": "2023-09-21T15:45:09.383Z"
   },
   {
    "duration": 34,
    "start_time": "2023-09-21T15:45:09.437Z"
   },
   {
    "duration": 13,
    "start_time": "2023-09-21T15:45:09.473Z"
   },
   {
    "duration": 14,
    "start_time": "2023-09-21T15:45:09.489Z"
   },
   {
    "duration": 19,
    "start_time": "2023-09-21T15:45:09.505Z"
   },
   {
    "duration": 17,
    "start_time": "2023-09-21T15:45:09.525Z"
   },
   {
    "duration": 14,
    "start_time": "2023-09-21T15:45:09.544Z"
   },
   {
    "duration": 26,
    "start_time": "2023-09-21T15:45:09.562Z"
   },
   {
    "duration": 15,
    "start_time": "2023-09-21T15:45:09.591Z"
   },
   {
    "duration": 30,
    "start_time": "2023-09-21T15:45:09.608Z"
   },
   {
    "duration": 15,
    "start_time": "2023-09-21T15:45:09.640Z"
   },
   {
    "duration": 14,
    "start_time": "2023-09-21T15:45:09.661Z"
   },
   {
    "duration": 17,
    "start_time": "2023-09-21T15:45:09.677Z"
   },
   {
    "duration": 24,
    "start_time": "2023-09-21T15:45:09.697Z"
   },
   {
    "duration": 19,
    "start_time": "2023-09-21T15:45:09.722Z"
   },
   {
    "duration": 8,
    "start_time": "2023-09-21T15:45:09.743Z"
   },
   {
    "duration": 15,
    "start_time": "2023-09-21T15:45:09.753Z"
   },
   {
    "duration": 9,
    "start_time": "2023-09-21T15:45:09.771Z"
   },
   {
    "duration": 202,
    "start_time": "2023-09-21T15:45:09.781Z"
   },
   {
    "duration": 120,
    "start_time": "2023-09-21T15:45:09.985Z"
   },
   {
    "duration": 319,
    "start_time": "2023-09-21T15:45:10.108Z"
   },
   {
    "duration": 9,
    "start_time": "2023-09-21T15:45:10.431Z"
   },
   {
    "duration": 328,
    "start_time": "2023-09-21T15:45:10.442Z"
   },
   {
    "duration": 314,
    "start_time": "2023-09-21T15:45:10.772Z"
   },
   {
    "duration": 17,
    "start_time": "2023-09-21T15:45:11.088Z"
   },
   {
    "duration": 20,
    "start_time": "2023-09-21T15:45:11.107Z"
   },
   {
    "duration": 7,
    "start_time": "2023-09-21T15:45:11.128Z"
   },
   {
    "duration": 7,
    "start_time": "2023-09-21T15:45:11.156Z"
   },
   {
    "duration": 13,
    "start_time": "2023-09-21T15:45:11.166Z"
   },
   {
    "duration": 16,
    "start_time": "2023-09-21T15:45:11.181Z"
   },
   {
    "duration": 24,
    "start_time": "2023-09-21T15:45:11.199Z"
   },
   {
    "duration": 19,
    "start_time": "2023-09-21T15:45:11.225Z"
   },
   {
    "duration": 428,
    "start_time": "2023-09-21T15:45:11.245Z"
   },
   {
    "duration": 321,
    "start_time": "2023-09-21T15:45:11.675Z"
   },
   {
    "duration": 318,
    "start_time": "2023-09-21T15:45:11.998Z"
   },
   {
    "duration": 323,
    "start_time": "2023-09-21T15:45:12.318Z"
   },
   {
    "duration": 4,
    "start_time": "2023-09-21T15:45:12.643Z"
   },
   {
    "duration": 41,
    "start_time": "2023-09-21T15:45:12.648Z"
   },
   {
    "duration": 18,
    "start_time": "2023-09-21T15:45:12.691Z"
   },
   {
    "duration": 25,
    "start_time": "2023-09-21T15:45:12.711Z"
   },
   {
    "duration": 30,
    "start_time": "2023-09-21T15:45:12.739Z"
   },
   {
    "duration": 50,
    "start_time": "2023-09-21T15:45:12.771Z"
   },
   {
    "duration": 40,
    "start_time": "2023-09-21T15:45:12.823Z"
   },
   {
    "duration": 1375,
    "start_time": "2023-09-21T16:49:00.847Z"
   },
   {
    "duration": 212,
    "start_time": "2023-09-21T16:49:02.224Z"
   },
   {
    "duration": 18,
    "start_time": "2023-09-21T16:49:02.439Z"
   },
   {
    "duration": 839,
    "start_time": "2023-09-21T16:49:02.460Z"
   },
   {
    "duration": 41,
    "start_time": "2023-09-21T16:49:03.301Z"
   },
   {
    "duration": 22,
    "start_time": "2023-09-21T16:49:03.344Z"
   },
   {
    "duration": 29,
    "start_time": "2023-09-21T16:49:03.367Z"
   },
   {
    "duration": 10,
    "start_time": "2023-09-21T16:49:03.397Z"
   },
   {
    "duration": 6,
    "start_time": "2023-09-21T16:49:03.409Z"
   },
   {
    "duration": 12,
    "start_time": "2023-09-21T16:49:03.419Z"
   },
   {
    "duration": 6,
    "start_time": "2023-09-21T16:49:03.433Z"
   },
   {
    "duration": 18,
    "start_time": "2023-09-21T16:49:03.441Z"
   },
   {
    "duration": 10,
    "start_time": "2023-09-21T16:49:03.461Z"
   },
   {
    "duration": 8,
    "start_time": "2023-09-21T16:49:03.473Z"
   },
   {
    "duration": 6,
    "start_time": "2023-09-21T16:49:03.483Z"
   },
   {
    "duration": 21,
    "start_time": "2023-09-21T16:49:03.491Z"
   },
   {
    "duration": 5,
    "start_time": "2023-09-21T16:49:03.514Z"
   },
   {
    "duration": 10,
    "start_time": "2023-09-21T16:49:03.521Z"
   },
   {
    "duration": 13,
    "start_time": "2023-09-21T16:49:03.532Z"
   },
   {
    "duration": 10,
    "start_time": "2023-09-21T16:49:03.547Z"
   },
   {
    "duration": 31,
    "start_time": "2023-09-21T16:49:03.559Z"
   },
   {
    "duration": 10,
    "start_time": "2023-09-21T16:49:03.592Z"
   },
   {
    "duration": 18,
    "start_time": "2023-09-21T16:49:03.604Z"
   },
   {
    "duration": 41,
    "start_time": "2023-09-21T16:49:03.624Z"
   },
   {
    "duration": 184,
    "start_time": "2023-09-21T16:49:03.666Z"
   },
   {
    "duration": 100,
    "start_time": "2023-09-21T16:49:03.852Z"
   },
   {
    "duration": 290,
    "start_time": "2023-09-21T16:49:03.954Z"
   },
   {
    "duration": 8,
    "start_time": "2023-09-21T16:49:04.247Z"
   },
   {
    "duration": 314,
    "start_time": "2023-09-21T16:49:04.257Z"
   },
   {
    "duration": 303,
    "start_time": "2023-09-21T16:49:04.574Z"
   },
   {
    "duration": 17,
    "start_time": "2023-09-21T16:49:04.878Z"
   },
   {
    "duration": 20,
    "start_time": "2023-09-21T16:49:04.896Z"
   },
   {
    "duration": 5,
    "start_time": "2023-09-21T16:49:04.917Z"
   },
   {
    "duration": 7,
    "start_time": "2023-09-21T16:49:04.924Z"
   },
   {
    "duration": 7,
    "start_time": "2023-09-21T16:49:04.933Z"
   },
   {
    "duration": 24,
    "start_time": "2023-09-21T16:49:04.942Z"
   },
   {
    "duration": 18,
    "start_time": "2023-09-21T16:49:04.968Z"
   },
   {
    "duration": 33,
    "start_time": "2023-09-21T16:49:04.987Z"
   },
   {
    "duration": 433,
    "start_time": "2023-09-21T16:49:05.022Z"
   },
   {
    "duration": 323,
    "start_time": "2023-09-21T16:49:05.457Z"
   },
   {
    "duration": 285,
    "start_time": "2023-09-21T16:49:05.782Z"
   },
   {
    "duration": 296,
    "start_time": "2023-09-21T16:49:06.069Z"
   },
   {
    "duration": 4,
    "start_time": "2023-09-21T16:49:06.366Z"
   },
   {
    "duration": 30,
    "start_time": "2023-09-21T16:49:06.372Z"
   },
   {
    "duration": 18,
    "start_time": "2023-09-21T16:49:06.404Z"
   },
   {
    "duration": 106,
    "start_time": "2023-09-21T16:49:06.423Z"
   },
   {
    "duration": 0,
    "start_time": "2023-09-21T16:49:06.531Z"
   },
   {
    "duration": 0,
    "start_time": "2023-09-21T16:49:06.532Z"
   },
   {
    "duration": 0,
    "start_time": "2023-09-21T16:49:06.534Z"
   },
   {
    "duration": 0,
    "start_time": "2023-09-21T16:49:06.535Z"
   },
   {
    "duration": 113,
    "start_time": "2023-09-21T16:49:15.002Z"
   },
   {
    "duration": 280,
    "start_time": "2023-09-21T16:49:26.331Z"
   },
   {
    "duration": 10,
    "start_time": "2023-09-21T16:49:30.734Z"
   },
   {
    "duration": 6,
    "start_time": "2023-09-21T16:49:35.261Z"
   },
   {
    "duration": 15,
    "start_time": "2023-09-21T16:49:42.050Z"
   },
   {
    "duration": 18,
    "start_time": "2023-09-21T16:49:47.459Z"
   },
   {
    "duration": 7,
    "start_time": "2023-09-21T17:08:01.733Z"
   },
   {
    "duration": 18,
    "start_time": "2023-09-21T17:08:02.313Z"
   },
   {
    "duration": 5,
    "start_time": "2023-09-21T17:08:41.476Z"
   },
   {
    "duration": 4,
    "start_time": "2023-09-21T17:08:49.487Z"
   },
   {
    "duration": 1371,
    "start_time": "2023-09-21T17:40:50.642Z"
   },
   {
    "duration": 96,
    "start_time": "2023-09-21T17:40:52.015Z"
   },
   {
    "duration": 15,
    "start_time": "2023-09-21T17:40:52.113Z"
   },
   {
    "duration": 40,
    "start_time": "2023-09-21T17:40:52.130Z"
   },
   {
    "duration": 34,
    "start_time": "2023-09-21T17:40:52.173Z"
   },
   {
    "duration": 30,
    "start_time": "2023-09-21T17:40:52.209Z"
   },
   {
    "duration": 53,
    "start_time": "2023-09-21T17:40:52.241Z"
   },
   {
    "duration": 29,
    "start_time": "2023-09-21T17:40:52.296Z"
   },
   {
    "duration": 56,
    "start_time": "2023-09-21T17:40:52.327Z"
   },
   {
    "duration": 16,
    "start_time": "2023-09-21T17:40:52.386Z"
   },
   {
    "duration": 17,
    "start_time": "2023-09-21T17:40:52.404Z"
   },
   {
    "duration": 41,
    "start_time": "2023-09-21T17:40:52.423Z"
   },
   {
    "duration": 34,
    "start_time": "2023-09-21T17:40:52.467Z"
   },
   {
    "duration": 19,
    "start_time": "2023-09-21T17:40:52.503Z"
   },
   {
    "duration": 41,
    "start_time": "2023-09-21T17:40:52.524Z"
   },
   {
    "duration": 22,
    "start_time": "2023-09-21T17:40:52.567Z"
   },
   {
    "duration": 12,
    "start_time": "2023-09-21T17:40:52.592Z"
   },
   {
    "duration": 21,
    "start_time": "2023-09-21T17:40:52.606Z"
   },
   {
    "duration": 22,
    "start_time": "2023-09-21T17:40:52.629Z"
   },
   {
    "duration": 41,
    "start_time": "2023-09-21T17:40:52.653Z"
   },
   {
    "duration": 26,
    "start_time": "2023-09-21T17:40:52.696Z"
   },
   {
    "duration": 54,
    "start_time": "2023-09-21T17:40:52.723Z"
   },
   {
    "duration": 21,
    "start_time": "2023-09-21T17:40:52.781Z"
   },
   {
    "duration": 8,
    "start_time": "2023-09-21T17:40:52.804Z"
   },
   {
    "duration": 232,
    "start_time": "2023-09-21T17:40:52.813Z"
   },
   {
    "duration": 128,
    "start_time": "2023-09-21T17:40:53.047Z"
   },
   {
    "duration": 338,
    "start_time": "2023-09-21T17:40:53.186Z"
   },
   {
    "duration": 9,
    "start_time": "2023-09-21T17:40:53.528Z"
   },
   {
    "duration": 378,
    "start_time": "2023-09-21T17:40:53.539Z"
   },
   {
    "duration": 386,
    "start_time": "2023-09-21T17:40:53.919Z"
   },
   {
    "duration": 18,
    "start_time": "2023-09-21T17:40:54.306Z"
   },
   {
    "duration": 13,
    "start_time": "2023-09-21T17:40:54.326Z"
   },
   {
    "duration": 24,
    "start_time": "2023-09-21T17:40:54.362Z"
   },
   {
    "duration": 6,
    "start_time": "2023-09-21T17:40:54.389Z"
   },
   {
    "duration": 21,
    "start_time": "2023-09-21T17:40:54.397Z"
   },
   {
    "duration": 17,
    "start_time": "2023-09-21T17:40:54.420Z"
   },
   {
    "duration": 22,
    "start_time": "2023-09-21T17:40:54.440Z"
   },
   {
    "duration": 38,
    "start_time": "2023-09-21T17:40:54.464Z"
   },
   {
    "duration": 488,
    "start_time": "2023-09-21T17:40:54.504Z"
   },
   {
    "duration": 345,
    "start_time": "2023-09-21T17:40:54.993Z"
   },
   {
    "duration": 363,
    "start_time": "2023-09-21T17:40:55.340Z"
   },
   {
    "duration": 401,
    "start_time": "2023-09-21T17:40:55.705Z"
   },
   {
    "duration": 5,
    "start_time": "2023-09-21T17:40:56.108Z"
   },
   {
    "duration": 28,
    "start_time": "2023-09-21T17:40:56.115Z"
   },
   {
    "duration": 28,
    "start_time": "2023-09-21T17:40:56.145Z"
   },
   {
    "duration": 27,
    "start_time": "2023-09-21T17:40:56.187Z"
   },
   {
    "duration": 8,
    "start_time": "2023-09-21T17:40:56.217Z"
   },
   {
    "duration": 10,
    "start_time": "2023-09-21T17:40:56.227Z"
   },
   {
    "duration": 32,
    "start_time": "2023-09-21T17:40:56.239Z"
   },
   {
    "duration": 29,
    "start_time": "2023-09-21T17:40:56.273Z"
   },
   {
    "duration": 40,
    "start_time": "2023-09-21T17:40:56.304Z"
   },
   {
    "duration": 21,
    "start_time": "2023-09-21T17:40:56.346Z"
   }
  ],
  "kernelspec": {
   "display_name": "Python 3 (ipykernel)",
   "language": "python",
   "name": "python3"
  },
  "language_info": {
   "codemirror_mode": {
    "name": "ipython",
    "version": 3
   },
   "file_extension": ".py",
   "mimetype": "text/x-python",
   "name": "python",
   "nbconvert_exporter": "python",
   "pygments_lexer": "ipython3",
   "version": "3.9.5"
  },
  "toc": {
   "base_numbering": 1,
   "nav_menu": {},
   "number_sections": true,
   "sideBar": true,
   "skip_h1_title": true,
   "title_cell": "Table of Contents",
   "title_sidebar": "Contents",
   "toc_cell": false,
   "toc_position": {},
   "toc_section_display": true,
   "toc_window_display": false
  }
 },
 "nbformat": 4,
 "nbformat_minor": 5
}
